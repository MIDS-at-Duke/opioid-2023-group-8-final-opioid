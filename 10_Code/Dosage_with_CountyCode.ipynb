{
 "cells": [
  {
   "cell_type": "code",
   "execution_count": 1,
   "metadata": {},
   "outputs": [
    {
     "data": {
      "text/plain": [
       "' \\nThis code is used to map FIPS Code to county based on county name and state name\\nThe FIPS Codes have been taken from https://github.com/kjhealy/fips-codes/raw/master/state_and_county_fips_master.csv\\nSome basic data cleaning is required, such as making the county name lowercase and removing the word \"county\" from the county name\\nAfter this, specific changes have been done for counties that had specific issues - such as replacing st. with saint and removing spaces\\n'"
      ]
     },
     "execution_count": 1,
     "metadata": {},
     "output_type": "execute_result"
    }
   ],
   "source": [
    "\"\"\" \n",
    "This code is used to map FIPS Code to county based on county name and state name\n",
    "The FIPS Codes have been taken from https://github.com/kjhealy/fips-codes/raw/master/state_and_county_fips_master.csv\n",
    "Some basic data cleaning is required, such as making the county name lowercase and removing the word \"county\" from the county name\n",
    "After this, specific changes have been done for counties that had specific issues - such as replacing st. with saint and removing spaces\n",
    "\"\"\""
   ]
  },
  {
   "cell_type": "code",
   "execution_count": 2,
   "metadata": {},
   "outputs": [],
   "source": [
    "# Importing Libraries\n",
    "import pandas as pd\n",
    "\n",
    "pd.set_option(\"mode.copy_on_write\", True)"
   ]
  },
  {
   "cell_type": "code",
   "execution_count": 3,
   "metadata": {},
   "outputs": [],
   "source": [
    "###################################################################\n",
    "# Reading and cleaning the Opioid data\n",
    "###################################################################"
   ]
  },
  {
   "cell_type": "code",
   "execution_count": 4,
   "metadata": {},
   "outputs": [],
   "source": [
    "# Reading Dosage Data (that has been cleaned, has county name but not county FIPS)\n",
    "# dos_data_path = \"https://github.com/MIDS-at-Duke/opioid-2023-group-8-final-opioid/raw/cleaning_dosage/20_Intermediate_Files/Dosage_FULL.parquet\"\n",
    "dos_data_path = \"https://github.com/MIDS-at-Duke/opioid-2023-group-8-final-opioid/raw/cleaning_dosage/20_Intermediate_Files/AllDosage.parquet\"\n",
    "\n",
    "\n",
    "dos_data = pd.read_parquet(dos_data_path)"
   ]
  },
  {
   "cell_type": "code",
   "execution_count": 5,
   "metadata": {},
   "outputs": [
    {
     "data": {
      "text/html": [
       "<div>\n",
       "<style scoped>\n",
       "    .dataframe tbody tr th:only-of-type {\n",
       "        vertical-align: middle;\n",
       "    }\n",
       "\n",
       "    .dataframe tbody tr th {\n",
       "        vertical-align: top;\n",
       "    }\n",
       "\n",
       "    .dataframe thead th {\n",
       "        text-align: right;\n",
       "    }\n",
       "</style>\n",
       "<table border=\"1\" class=\"dataframe\">\n",
       "  <thead>\n",
       "    <tr style=\"text-align: right;\">\n",
       "      <th></th>\n",
       "      <th>BUYER_COUNTY</th>\n",
       "      <th>BUYER_STATE</th>\n",
       "      <th>Year</th>\n",
       "      <th>MME</th>\n",
       "    </tr>\n",
       "  </thead>\n",
       "  <tbody>\n",
       "    <tr>\n",
       "      <th>0</th>\n",
       "      <td>ABBEVILLE</td>\n",
       "      <td>SC</td>\n",
       "      <td>2006</td>\n",
       "      <td>3.136215e+06</td>\n",
       "    </tr>\n",
       "    <tr>\n",
       "      <th>1</th>\n",
       "      <td>ABBEVILLE</td>\n",
       "      <td>SC</td>\n",
       "      <td>2007</td>\n",
       "      <td>3.232603e+06</td>\n",
       "    </tr>\n",
       "    <tr>\n",
       "      <th>2</th>\n",
       "      <td>ABBEVILLE</td>\n",
       "      <td>SC</td>\n",
       "      <td>2008</td>\n",
       "      <td>3.070698e+06</td>\n",
       "    </tr>\n",
       "    <tr>\n",
       "      <th>3</th>\n",
       "      <td>ABBEVILLE</td>\n",
       "      <td>SC</td>\n",
       "      <td>2009</td>\n",
       "      <td>3.827607e+06</td>\n",
       "    </tr>\n",
       "    <tr>\n",
       "      <th>4</th>\n",
       "      <td>ABBEVILLE</td>\n",
       "      <td>SC</td>\n",
       "      <td>2010</td>\n",
       "      <td>4.612935e+06</td>\n",
       "    </tr>\n",
       "  </tbody>\n",
       "</table>\n",
       "</div>"
      ],
      "text/plain": [
       "  BUYER_COUNTY BUYER_STATE  Year           MME\n",
       "0    ABBEVILLE          SC  2006  3.136215e+06\n",
       "1    ABBEVILLE          SC  2007  3.232603e+06\n",
       "2    ABBEVILLE          SC  2008  3.070698e+06\n",
       "3    ABBEVILLE          SC  2009  3.827607e+06\n",
       "4    ABBEVILLE          SC  2010  4.612935e+06"
      ]
     },
     "execution_count": 5,
     "metadata": {},
     "output_type": "execute_result"
    }
   ],
   "source": [
    "dos_data.shape\n",
    "# (43152, 4)\n",
    "dos_data.head()"
   ]
  },
  {
   "cell_type": "code",
   "execution_count": 6,
   "metadata": {},
   "outputs": [
    {
     "data": {
      "text/html": [
       "<div>\n",
       "<style scoped>\n",
       "    .dataframe tbody tr th:only-of-type {\n",
       "        vertical-align: middle;\n",
       "    }\n",
       "\n",
       "    .dataframe tbody tr th {\n",
       "        vertical-align: top;\n",
       "    }\n",
       "\n",
       "    .dataframe thead th {\n",
       "        text-align: right;\n",
       "    }\n",
       "</style>\n",
       "<table border=\"1\" class=\"dataframe\">\n",
       "  <thead>\n",
       "    <tr style=\"text-align: right;\">\n",
       "      <th></th>\n",
       "      <th>BUYER_COUNTY</th>\n",
       "      <th>BUYER_STATE</th>\n",
       "      <th>Year</th>\n",
       "      <th>MME</th>\n",
       "    </tr>\n",
       "  </thead>\n",
       "  <tbody>\n",
       "    <tr>\n",
       "      <th>0</th>\n",
       "      <td>abbeville</td>\n",
       "      <td>SC</td>\n",
       "      <td>2006</td>\n",
       "      <td>3.136215e+06</td>\n",
       "    </tr>\n",
       "    <tr>\n",
       "      <th>1</th>\n",
       "      <td>abbeville</td>\n",
       "      <td>SC</td>\n",
       "      <td>2007</td>\n",
       "      <td>3.232603e+06</td>\n",
       "    </tr>\n",
       "    <tr>\n",
       "      <th>2</th>\n",
       "      <td>abbeville</td>\n",
       "      <td>SC</td>\n",
       "      <td>2008</td>\n",
       "      <td>3.070698e+06</td>\n",
       "    </tr>\n",
       "    <tr>\n",
       "      <th>3</th>\n",
       "      <td>abbeville</td>\n",
       "      <td>SC</td>\n",
       "      <td>2009</td>\n",
       "      <td>3.827607e+06</td>\n",
       "    </tr>\n",
       "    <tr>\n",
       "      <th>4</th>\n",
       "      <td>abbeville</td>\n",
       "      <td>SC</td>\n",
       "      <td>2010</td>\n",
       "      <td>4.612935e+06</td>\n",
       "    </tr>\n",
       "  </tbody>\n",
       "</table>\n",
       "</div>"
      ],
      "text/plain": [
       "  BUYER_COUNTY BUYER_STATE  Year           MME\n",
       "0    abbeville          SC  2006  3.136215e+06\n",
       "1    abbeville          SC  2007  3.232603e+06\n",
       "2    abbeville          SC  2008  3.070698e+06\n",
       "3    abbeville          SC  2009  3.827607e+06\n",
       "4    abbeville          SC  2010  4.612935e+06"
      ]
     },
     "execution_count": 6,
     "metadata": {},
     "output_type": "execute_result"
    }
   ],
   "source": [
    "# Removing spaces from the county name\n",
    "dos_data[\"BUYER_COUNTY\"] = dos_data[\"BUYER_COUNTY\"].str.replace(\" \", \"\").str.lower()\n",
    "\n",
    "\n",
    "\n",
    "# Add 'County' at the end of each value in the 'BUYER_COUNTY' column\n",
    "\n",
    "\n",
    "dos_data[\"BUYER_COUNTY\"] = dos_data[\"BUYER_COUNTY\"]\n",
    "\n",
    "\n",
    "\n",
    "dos_data.head()"
   ]
  },
  {
   "cell_type": "code",
   "execution_count": 7,
   "metadata": {},
   "outputs": [
    {
     "data": {
      "text/plain": [
       "43152"
      ]
     },
     "execution_count": 7,
     "metadata": {},
     "output_type": "execute_result"
    }
   ],
   "source": [
    "new_column_names = {\n",
    "    \"BUYER_STATE\": \"state\",\n",
    "    \"BUYER_COUNTY\": \"name\",\n",
    "}\n",
    "\n",
    "# Rename columns using the dictionary\n",
    "dos_data1 = dos_data.rename(columns=new_column_names)\n",
    "\n",
    "len(dos_data1)"
   ]
  },
  {
   "cell_type": "code",
   "execution_count": 8,
   "metadata": {},
   "outputs": [],
   "source": [
    "###################################################################\n",
    "# Reading and cleaning the FIPS Code data\n",
    "###################################################################"
   ]
  },
  {
   "cell_type": "code",
   "execution_count": 9,
   "metadata": {},
   "outputs": [],
   "source": [
    "# Reading FIPS Code data\n",
    "data_code = pd.read_csv(\n",
    "    \"https://github.com/kjhealy/fips-codes/raw/master/state_and_county_fips_master.csv\"\n",
    ")"
   ]
  },
  {
   "cell_type": "code",
   "execution_count": 10,
   "metadata": {},
   "outputs": [
    {
     "data": {
      "text/html": [
       "<div>\n",
       "<style scoped>\n",
       "    .dataframe tbody tr th:only-of-type {\n",
       "        vertical-align: middle;\n",
       "    }\n",
       "\n",
       "    .dataframe tbody tr th {\n",
       "        vertical-align: top;\n",
       "    }\n",
       "\n",
       "    .dataframe thead th {\n",
       "        text-align: right;\n",
       "    }\n",
       "</style>\n",
       "<table border=\"1\" class=\"dataframe\">\n",
       "  <thead>\n",
       "    <tr style=\"text-align: right;\">\n",
       "      <th></th>\n",
       "      <th>fips</th>\n",
       "      <th>name</th>\n",
       "      <th>state</th>\n",
       "    </tr>\n",
       "  </thead>\n",
       "  <tbody>\n",
       "    <tr>\n",
       "      <th>1399</th>\n",
       "      <td>27121</td>\n",
       "      <td>Pope County</td>\n",
       "      <td>MN</td>\n",
       "    </tr>\n",
       "    <tr>\n",
       "      <th>2773</th>\n",
       "      <td>48411</td>\n",
       "      <td>San Saba County</td>\n",
       "      <td>TX</td>\n",
       "    </tr>\n",
       "    <tr>\n",
       "      <th>2205</th>\n",
       "      <td>40073</td>\n",
       "      <td>Kingfisher County</td>\n",
       "      <td>OK</td>\n",
       "    </tr>\n",
       "    <tr>\n",
       "      <th>72</th>\n",
       "      <td>2020</td>\n",
       "      <td>Anchorage Municipality</td>\n",
       "      <td>AK</td>\n",
       "    </tr>\n",
       "    <tr>\n",
       "      <th>1824</th>\n",
       "      <td>34037</td>\n",
       "      <td>Sussex County</td>\n",
       "      <td>NJ</td>\n",
       "    </tr>\n",
       "  </tbody>\n",
       "</table>\n",
       "</div>"
      ],
      "text/plain": [
       "       fips                    name state\n",
       "1399  27121             Pope County    MN\n",
       "2773  48411         San Saba County    TX\n",
       "2205  40073       Kingfisher County    OK\n",
       "72     2020  Anchorage Municipality    AK\n",
       "1824  34037           Sussex County    NJ"
      ]
     },
     "execution_count": 10,
     "metadata": {},
     "output_type": "execute_result"
    }
   ],
   "source": [
    "data_code.sample(5)"
   ]
  },
  {
   "cell_type": "code",
   "execution_count": 11,
   "metadata": {},
   "outputs": [
    {
     "data": {
      "text/plain": [
       "state\n",
       "TX    254\n",
       "GA    159\n",
       "VA    134\n",
       "KY    120\n",
       "MO    115\n",
       "KS    105\n",
       "IL    102\n",
       "NC    100\n",
       "IA     99\n",
       "TN     95\n",
       "NE     93\n",
       "IN     92\n",
       "OH     88\n",
       "MN     87\n",
       "MI     83\n",
       "MS     82\n",
       "OK     77\n",
       "AR     75\n",
       "WI     72\n",
       "PA     67\n",
       "AL     67\n",
       "FL     67\n",
       "SD     66\n",
       "CO     64\n",
       "LA     64\n",
       "NY     62\n",
       "CA     58\n",
       "MT     56\n",
       "WV     55\n",
       "ND     53\n",
       "SC     46\n",
       "ID     44\n",
       "WA     39\n",
       "OR     36\n",
       "NM     33\n",
       "AK     29\n",
       "UT     29\n",
       "MD     24\n",
       "WY     23\n",
       "NJ     21\n",
       "NV     17\n",
       "ME     16\n",
       "AZ     15\n",
       "VT     14\n",
       "MA     14\n",
       "NH     10\n",
       "CT      8\n",
       "RI      5\n",
       "HI      5\n",
       "DE      3\n",
       "DC      1\n",
       "Name: count, dtype: int64"
      ]
     },
     "execution_count": 11,
     "metadata": {},
     "output_type": "execute_result"
    }
   ],
   "source": [
    "# Since there are states as well as counties in the fips data, we will only keep the counties\n",
    "data_code1 = data_code[data_code[\"state\"].notnull()]\n",
    "data_code1.state.value_counts()"
   ]
  },
  {
   "cell_type": "code",
   "execution_count": 12,
   "metadata": {},
   "outputs": [],
   "source": [
    "# Remove the word \"county\" from the county name since it is repetitive\n",
    "data_code1[\"name\"] = data_code1[\"name\"].str.replace(\"county\", \"\", case=False)\n",
    "\n",
    "\n",
    "\n",
    "# Remove spaces from the resulting strings\n",
    "\n",
    "\n",
    "data_code1[\"name\"] = data_code1[\"name\"].str.replace(\" \", \"\")\n",
    "\n",
    "\n",
    "# Convert the strings to lowercase\n",
    "\n",
    "\n",
    "data_code1[\"name\"] = data_code1[\"name\"].str.lower()\n",
    "\n",
    "# Remove spaces from the resulting strings\n",
    "data_code1[\"name\"] = data_code1[\"name\"].str.replace(\"`\", \"\")\n",
    "data_code1[\"name\"] = data_code1[\"name\"].str.replace(\"'\", \"\")"
   ]
  },
  {
   "cell_type": "code",
   "execution_count": 13,
   "metadata": {},
   "outputs": [],
   "source": [
    "# Since the Codes data has the word \"parish\" for some counties while the drugs data does not have the word for the corresponding counties, we will remove this word from the Codes data\n",
    "data_code1[\"name\"] = data_code1[\"name\"].str.replace(\"parish\", \"\")"
   ]
  },
  {
   "cell_type": "code",
   "execution_count": 14,
   "metadata": {},
   "outputs": [],
   "source": [
    "# Since the Codes data has the word \"st.\" while the drugs data has the word \"saint\" for the corresponding counties, we will replace \"st.\" with \"saint\" in the Codes data\n",
    "data_code1[\"name\"] = data_code1[\"name\"].str.replace(r\"st.\", \"saint\")"
   ]
  },
  {
   "cell_type": "code",
   "execution_count": 15,
   "metadata": {},
   "outputs": [],
   "source": [
    "# After the previous step, only one county \"saintjohnthebaptist\" is not matching, so manually changing that value\n",
    "data_code1[\"name\"] = data_code1[\"name\"].str.replace(\n",
    "    \"saintjohnthebaptist\", \"stjohnthebaptist\"\n",
    ")"
   ]
  },
  {
   "cell_type": "code",
   "execution_count": 16,
   "metadata": {},
   "outputs": [
    {
     "data": {
      "text/html": [
       "<div>\n",
       "<style scoped>\n",
       "    .dataframe tbody tr th:only-of-type {\n",
       "        vertical-align: middle;\n",
       "    }\n",
       "\n",
       "    .dataframe tbody tr th {\n",
       "        vertical-align: top;\n",
       "    }\n",
       "\n",
       "    .dataframe thead th {\n",
       "        text-align: right;\n",
       "    }\n",
       "</style>\n",
       "<table border=\"1\" class=\"dataframe\">\n",
       "  <thead>\n",
       "    <tr style=\"text-align: right;\">\n",
       "      <th></th>\n",
       "      <th>fips</th>\n",
       "      <th>name</th>\n",
       "      <th>state</th>\n",
       "    </tr>\n",
       "  </thead>\n",
       "  <tbody>\n",
       "    <tr>\n",
       "      <th>151</th>\n",
       "      <td>5071</td>\n",
       "      <td>johnson</td>\n",
       "      <td>AR</td>\n",
       "    </tr>\n",
       "    <tr>\n",
       "      <th>385</th>\n",
       "      <td>12109</td>\n",
       "      <td>saintjohns</td>\n",
       "      <td>FL</td>\n",
       "    </tr>\n",
       "    <tr>\n",
       "      <th>481</th>\n",
       "      <td>13167</td>\n",
       "      <td>johnson</td>\n",
       "      <td>GA</td>\n",
       "    </tr>\n",
       "    <tr>\n",
       "      <th>653</th>\n",
       "      <td>17087</td>\n",
       "      <td>johnson</td>\n",
       "      <td>IL</td>\n",
       "    </tr>\n",
       "    <tr>\n",
       "      <th>753</th>\n",
       "      <td>18081</td>\n",
       "      <td>johnson</td>\n",
       "      <td>IN</td>\n",
       "    </tr>\n",
       "    <tr>\n",
       "      <th>857</th>\n",
       "      <td>19103</td>\n",
       "      <td>johnson</td>\n",
       "      <td>IA</td>\n",
       "    </tr>\n",
       "    <tr>\n",
       "      <th>951</th>\n",
       "      <td>20091</td>\n",
       "      <td>johnson</td>\n",
       "      <td>KS</td>\n",
       "    </tr>\n",
       "    <tr>\n",
       "      <th>1069</th>\n",
       "      <td>21115</td>\n",
       "      <td>johnson</td>\n",
       "      <td>KY</td>\n",
       "    </tr>\n",
       "    <tr>\n",
       "      <th>1180</th>\n",
       "      <td>22095</td>\n",
       "      <td>stjohnthebaptist</td>\n",
       "      <td>LA</td>\n",
       "    </tr>\n",
       "    <tr>\n",
       "      <th>1560</th>\n",
       "      <td>29101</td>\n",
       "      <td>johnson</td>\n",
       "      <td>MO</td>\n",
       "    </tr>\n",
       "    <tr>\n",
       "      <th>1731</th>\n",
       "      <td>31097</td>\n",
       "      <td>johnson</td>\n",
       "      <td>NE</td>\n",
       "    </tr>\n",
       "    <tr>\n",
       "      <th>1975</th>\n",
       "      <td>37101</td>\n",
       "      <td>johnston</td>\n",
       "      <td>NC</td>\n",
       "    </tr>\n",
       "    <tr>\n",
       "      <th>2203</th>\n",
       "      <td>40069</td>\n",
       "      <td>johnston</td>\n",
       "      <td>OK</td>\n",
       "    </tr>\n",
       "    <tr>\n",
       "      <th>2517</th>\n",
       "      <td>47091</td>\n",
       "      <td>johnson</td>\n",
       "      <td>TN</td>\n",
       "    </tr>\n",
       "    <tr>\n",
       "      <th>2693</th>\n",
       "      <td>48251</td>\n",
       "      <td>johnson</td>\n",
       "      <td>TX</td>\n",
       "    </tr>\n",
       "    <tr>\n",
       "      <th>3181</th>\n",
       "      <td>56019</td>\n",
       "      <td>johnson</td>\n",
       "      <td>WY</td>\n",
       "    </tr>\n",
       "  </tbody>\n",
       "</table>\n",
       "</div>"
      ],
      "text/plain": [
       "       fips              name state\n",
       "151    5071           johnson    AR\n",
       "385   12109        saintjohns    FL\n",
       "481   13167           johnson    GA\n",
       "653   17087           johnson    IL\n",
       "753   18081           johnson    IN\n",
       "857   19103           johnson    IA\n",
       "951   20091           johnson    KS\n",
       "1069  21115           johnson    KY\n",
       "1180  22095  stjohnthebaptist    LA\n",
       "1560  29101           johnson    MO\n",
       "1731  31097           johnson    NE\n",
       "1975  37101          johnston    NC\n",
       "2203  40069          johnston    OK\n",
       "2517  47091           johnson    TN\n",
       "2693  48251           johnson    TX\n",
       "3181  56019           johnson    WY"
      ]
     },
     "execution_count": 16,
     "metadata": {},
     "output_type": "execute_result"
    }
   ],
   "source": [
    "data_code1[data_code1[\"name\"].str.contains(\"john\")]"
   ]
  },
  {
   "cell_type": "code",
   "execution_count": 17,
   "metadata": {},
   "outputs": [],
   "source": [
    "data_code2 = data_code1.copy()\n",
    "data_code2[\"name1\"] = data_code2[\"name\"]\n",
    "data_code2[\"state1\"] = data_code2[\"state\"]"
   ]
  },
  {
   "cell_type": "code",
   "execution_count": 18,
   "metadata": {},
   "outputs": [],
   "source": [
    "###################################################################\n",
    "# Merging the two datasets to get the FIPS code - this will be a left join to the dosage data\n",
    "###################################################################"
   ]
  },
  {
   "cell_type": "code",
   "execution_count": 19,
   "metadata": {},
   "outputs": [],
   "source": [
    "merged_df = pd.merge(dos_data1, data_code1, on=[\"name\", \"state\"], how=\"left\")"
   ]
  },
  {
   "cell_type": "code",
   "execution_count": 20,
   "metadata": {},
   "outputs": [
    {
     "data": {
      "text/html": [
       "<div>\n",
       "<style scoped>\n",
       "    .dataframe tbody tr th:only-of-type {\n",
       "        vertical-align: middle;\n",
       "    }\n",
       "\n",
       "    .dataframe tbody tr th {\n",
       "        vertical-align: top;\n",
       "    }\n",
       "\n",
       "    .dataframe thead th {\n",
       "        text-align: right;\n",
       "    }\n",
       "</style>\n",
       "<table border=\"1\" class=\"dataframe\">\n",
       "  <thead>\n",
       "    <tr style=\"text-align: right;\">\n",
       "      <th></th>\n",
       "      <th>name</th>\n",
       "      <th>state</th>\n",
       "      <th>Year</th>\n",
       "      <th>MME</th>\n",
       "      <th>fips</th>\n",
       "    </tr>\n",
       "  </thead>\n",
       "  <tbody>\n",
       "    <tr>\n",
       "      <th>38890</th>\n",
       "      <td>tunica</td>\n",
       "      <td>MS</td>\n",
       "      <td>2012</td>\n",
       "      <td>1.262613e+06</td>\n",
       "      <td>28143.0</td>\n",
       "    </tr>\n",
       "    <tr>\n",
       "      <th>37118</th>\n",
       "      <td>stewart</td>\n",
       "      <td>TN</td>\n",
       "      <td>2016</td>\n",
       "      <td>6.758604e+06</td>\n",
       "      <td>47161.0</td>\n",
       "    </tr>\n",
       "    <tr>\n",
       "      <th>13894</th>\n",
       "      <td>gallia</td>\n",
       "      <td>OH</td>\n",
       "      <td>2019</td>\n",
       "      <td>7.889651e+06</td>\n",
       "      <td>39053.0</td>\n",
       "    </tr>\n",
       "    <tr>\n",
       "      <th>2082</th>\n",
       "      <td>bastrop</td>\n",
       "      <td>TX</td>\n",
       "      <td>2019</td>\n",
       "      <td>1.411990e+07</td>\n",
       "      <td>48021.0</td>\n",
       "    </tr>\n",
       "    <tr>\n",
       "      <th>4732</th>\n",
       "      <td>calaveras</td>\n",
       "      <td>CA</td>\n",
       "      <td>2016</td>\n",
       "      <td>2.229622e+07</td>\n",
       "      <td>6009.0</td>\n",
       "    </tr>\n",
       "  </tbody>\n",
       "</table>\n",
       "</div>"
      ],
      "text/plain": [
       "            name state  Year           MME     fips\n",
       "38890     tunica    MS  2012  1.262613e+06  28143.0\n",
       "37118    stewart    TN  2016  6.758604e+06  47161.0\n",
       "13894     gallia    OH  2019  7.889651e+06  39053.0\n",
       "2082     bastrop    TX  2019  1.411990e+07  48021.0\n",
       "4732   calaveras    CA  2016  2.229622e+07   6009.0"
      ]
     },
     "execution_count": 20,
     "metadata": {},
     "output_type": "execute_result"
    }
   ],
   "source": [
    "merged_df.sample(5)"
   ]
  },
  {
   "cell_type": "code",
   "execution_count": 21,
   "metadata": {},
   "outputs": [
    {
     "data": {
      "text/plain": [
       "name             state\n",
       "adjuntas         PR       14\n",
       "naguabo          PR       14\n",
       "rincon           PR       14\n",
       "radford          VA       14\n",
       "quebradillas     PR       14\n",
       "                          ..\n",
       "saipan           MP        5\n",
       "bristolbay       AK        4\n",
       "northwestarctic  AK        3\n",
       "aleutianseast    AK        2\n",
       "skagway          AK        1\n",
       "Name: count, Length: 111, dtype: int64"
      ]
     },
     "execution_count": 21,
     "metadata": {},
     "output_type": "execute_result"
    }
   ],
   "source": [
    "missing_fips_rows = merged_df[merged_df[\"fips\"].isnull()]\n",
    "missing_fips_rows[[\"name\", \"state\"]].value_counts()"
   ]
  },
  {
   "cell_type": "code",
   "execution_count": 22,
   "metadata": {},
   "outputs": [
    {
     "data": {
      "text/plain": [
       "name                    state\n",
       "donaana                 NM       14\n",
       "guam                    GU       14\n",
       "saintcroix              VI       14\n",
       "saintegenevieve         MO       14\n",
       "saintjohn               VI       14\n",
       "saintthomas             VI       14\n",
       "stjoseph                IN       14\n",
       "northernmarianaislands  MP        9\n",
       "palau                   PW        5\n",
       "saipan                  MP        5\n",
       "Name: count, dtype: int64"
      ]
     },
     "execution_count": 22,
     "metadata": {},
     "output_type": "execute_result"
    }
   ],
   "source": [
    "missing_fips_rows[~missing_fips_rows[\"state\"].isin([\"PR\", \"AK\", \"VA\"])][\n",
    "    [\"name\", \"state\"]\n",
    "].value_counts()"
   ]
  },
  {
   "cell_type": "code",
   "execution_count": 23,
   "metadata": {},
   "outputs": [
    {
     "data": {
      "text/plain": [
       "state\n",
       "PR    1063\n",
       "AK     244\n",
       "VI      42\n",
       "VA      28\n",
       "NM      14\n",
       "GU      14\n",
       "MP      14\n",
       "MO      14\n",
       "IN      14\n",
       "PW       5\n",
       "Name: count, dtype: int64"
      ]
     },
     "execution_count": 23,
     "metadata": {},
     "output_type": "execute_result"
    }
   ],
   "source": [
    "missing_fips_rows[\"state\"].value_counts()"
   ]
  },
  {
   "cell_type": "code",
   "execution_count": 24,
   "metadata": {},
   "outputs": [
    {
     "data": {
      "text/plain": [
       "'\\nSince none of these states are in our list of test and control states, we will not be using these rows for our analysis, so we will not be imputing the FIPS codes for these rows\\n'"
      ]
     },
     "execution_count": 24,
     "metadata": {},
     "output_type": "execute_result"
    }
   ],
   "source": [
    "\"\"\"\n",
    "Since none of these states are in our list of test and control states, we will not be using these rows for our analysis, so we will not be imputing the FIPS codes for these rows\n",
    "\"\"\""
   ]
  },
  {
   "cell_type": "code",
   "execution_count": 25,
   "metadata": {},
   "outputs": [],
   "source": [
    "file_path = \"C:/Users/divya/OneDrive/Documents/Duke/MIDS/Semester 1/IDS 720 - PDS/Opioid_Project/opioid-2023-group-8-final-opioid/20_Intermediate_Files/Dosage_with_CountyCode.csv\"  # Replace with your desired file path\n",
    "\n",
    "# Save the DataFrame to a CSV file\n",
    "merged_df.to_csv(file_path, index=False)"
   ]
  }
 ],
 "metadata": {
  "kernelspec": {
   "display_name": "base",
   "language": "python",
   "name": "python3"
  },
  "language_info": {
   "codemirror_mode": {
    "name": "ipython",
    "version": 3
   },
   "file_extension": ".py",
   "mimetype": "text/x-python",
   "name": "python",
   "nbconvert_exporter": "python",
   "pygments_lexer": "ipython3",
   "version": "3.11.5"
  }
 },
 "nbformat": 4,
 "nbformat_minor": 2
}
