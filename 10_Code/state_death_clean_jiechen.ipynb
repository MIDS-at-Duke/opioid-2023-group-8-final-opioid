{
 "cells": [
  {
   "cell_type": "markdown",
   "metadata": {},
   "source": [
    "## Read all 12 txt files from US_VitalStatistics.zip"
   ]
  },
  {
   "cell_type": "code",
   "execution_count": null,
   "metadata": {},
   "outputs": [],
   "source": [
    "import pandas as pd\n",
    "import warnings\n",
    "\n",
    "warnings.filterwarnings(\"ignore\")\n",
    "pd.set_option(\"mode.copy_on_write\", True)\n",
    "\n",
    "# list of 12 names for txt files from US_VitalStatistics.zip\n",
    "file_names = [\n",
    "    \"Underlying Cause of Death, 2003\",\n",
    "    \"Underlying Cause of Death, 2004\",\n",
    "    \"Underlying Cause of Death, 2005\",\n",
    "    \"Underlying Cause of Death, 2006\",\n",
    "    \"Underlying Cause of Death, 2007\",\n",
    "    \"Underlying Cause of Death, 2008\",\n",
    "    \"Underlying Cause of Death, 2009\",\n",
    "    \"Underlying Cause of Death, 2010\",\n",
    "    \"Underlying Cause of Death, 2011\",\n",
    "    \"Underlying Cause of Death, 2012\",\n",
    "    \"Underlying Cause of Death, 2013\",\n",
    "    \"Underlying Cause of Death, 2014\",\n",
    "    \"Underlying Cause of Death, 2015\",\n",
    "]\n",
    "\n",
    "# create a new list to contain combined data\n",
    "data_frames = []\n",
    "\n",
    "# states to select\n",
    "selected_states = [\", TX\", \", FL\", \", WA\"]\n",
    "\n",
    "for name in file_names:\n",
    "    # construct the file path，you could change your path\n",
    "    path = f\"/workspaces/opioid-2023-group-8-final-opioid/10_Code/US_VitalStatistics/{name}.txt\"\n",
    "\n",
    "    # read txt file\n",
    "    state_death = pd.read_csv(path, sep=\"\\t\")\n",
    "\n",
    "    # select only the rows for TX, FL, and WA\n",
    "    selected_data = state_death.loc[\n",
    "        state_death[\"County\"].notna()\n",
    "        & state_death[\"County\"].str.contains(\"|\".join(selected_states)),\n",
    "        :,\n",
    "    ]\n",
    "\n",
    "    # append to the list of dataframe\n",
    "    data_frames.append(selected_data)\n",
    "\n",
    "# concatenate all dataframe in the list\n",
    "combined_df = pd.concat(data_frames, ignore_index=True)"
   ]
  },
  {
   "cell_type": "code",
   "execution_count": 2,
   "metadata": {},
   "outputs": [
    {
     "data": {
      "text/html": [
       "<div>\n",
       "<style scoped>\n",
       "    .dataframe tbody tr th:only-of-type {\n",
       "        vertical-align: middle;\n",
       "    }\n",
       "\n",
       "    .dataframe tbody tr th {\n",
       "        vertical-align: top;\n",
       "    }\n",
       "\n",
       "    .dataframe thead th {\n",
       "        text-align: right;\n",
       "    }\n",
       "</style>\n",
       "<table border=\"1\" class=\"dataframe\">\n",
       "  <thead>\n",
       "    <tr style=\"text-align: right;\">\n",
       "      <th></th>\n",
       "      <th>Notes</th>\n",
       "      <th>County</th>\n",
       "      <th>County Code</th>\n",
       "      <th>Year</th>\n",
       "      <th>Year Code</th>\n",
       "      <th>Drug/Alcohol Induced Cause</th>\n",
       "      <th>Drug/Alcohol Induced Cause Code</th>\n",
       "      <th>Deaths</th>\n",
       "    </tr>\n",
       "  </thead>\n",
       "  <tbody>\n",
       "    <tr>\n",
       "      <th>3501</th>\n",
       "      <td>NaN</td>\n",
       "      <td>Fannin County, TX</td>\n",
       "      <td>48147.0</td>\n",
       "      <td>2009.0</td>\n",
       "      <td>2009.0</td>\n",
       "      <td>All other non-drug and non-alcohol causes</td>\n",
       "      <td>O9</td>\n",
       "      <td>439.0</td>\n",
       "    </tr>\n",
       "    <tr>\n",
       "      <th>6412</th>\n",
       "      <td>NaN</td>\n",
       "      <td>Lubbock County, TX</td>\n",
       "      <td>48303.0</td>\n",
       "      <td>2014.0</td>\n",
       "      <td>2014.0</td>\n",
       "      <td>All other non-drug and non-alcohol causes</td>\n",
       "      <td>O9</td>\n",
       "      <td>2332.0</td>\n",
       "    </tr>\n",
       "    <tr>\n",
       "      <th>1748</th>\n",
       "      <td>NaN</td>\n",
       "      <td>Sumter County, FL</td>\n",
       "      <td>12119.0</td>\n",
       "      <td>2006.0</td>\n",
       "      <td>2006.0</td>\n",
       "      <td>All other non-drug and non-alcohol causes</td>\n",
       "      <td>O9</td>\n",
       "      <td>870.0</td>\n",
       "    </tr>\n",
       "    <tr>\n",
       "      <th>1498</th>\n",
       "      <td>NaN</td>\n",
       "      <td>Val Verde County, TX</td>\n",
       "      <td>48465.0</td>\n",
       "      <td>2005.0</td>\n",
       "      <td>2005.0</td>\n",
       "      <td>All other non-drug and non-alcohol causes</td>\n",
       "      <td>O9</td>\n",
       "      <td>300.0</td>\n",
       "    </tr>\n",
       "    <tr>\n",
       "      <th>6821</th>\n",
       "      <td>NaN</td>\n",
       "      <td>Brazoria County, TX</td>\n",
       "      <td>48039.0</td>\n",
       "      <td>2015.0</td>\n",
       "      <td>2015.0</td>\n",
       "      <td>All other non-drug and non-alcohol causes</td>\n",
       "      <td>O9</td>\n",
       "      <td>2119</td>\n",
       "    </tr>\n",
       "  </tbody>\n",
       "</table>\n",
       "</div>"
      ],
      "text/plain": [
       "     Notes                County  County Code    Year  Year Code  \\\n",
       "3501   NaN     Fannin County, TX      48147.0  2009.0     2009.0   \n",
       "6412   NaN    Lubbock County, TX      48303.0  2014.0     2014.0   \n",
       "1748   NaN     Sumter County, FL      12119.0  2006.0     2006.0   \n",
       "1498   NaN  Val Verde County, TX      48465.0  2005.0     2005.0   \n",
       "6821   NaN   Brazoria County, TX      48039.0  2015.0     2015.0   \n",
       "\n",
       "                     Drug/Alcohol Induced Cause  \\\n",
       "3501  All other non-drug and non-alcohol causes   \n",
       "6412  All other non-drug and non-alcohol causes   \n",
       "1748  All other non-drug and non-alcohol causes   \n",
       "1498  All other non-drug and non-alcohol causes   \n",
       "6821  All other non-drug and non-alcohol causes   \n",
       "\n",
       "     Drug/Alcohol Induced Cause Code  Deaths  \n",
       "3501                              O9   439.0  \n",
       "6412                              O9  2332.0  \n",
       "1748                              O9   870.0  \n",
       "1498                              O9   300.0  \n",
       "6821                              O9    2119  "
      ]
     },
     "execution_count": 2,
     "metadata": {},
     "output_type": "execute_result"
    }
   ],
   "source": [
    "combined_df.sample(5)"
   ]
  },
  {
   "cell_type": "markdown",
   "metadata": {},
   "source": [
    "## Check for Missing Values\n",
    "\n"
   ]
  },
  {
   "cell_type": "code",
   "execution_count": 3,
   "metadata": {},
   "outputs": [
    {
     "name": "stdout",
     "output_type": "stream",
     "text": [
      "Missing values in the dataset:\n"
     ]
    },
    {
     "data": {
      "text/plain": [
       "Notes                              7216\n",
       "County                                0\n",
       "County Code                           0\n",
       "Year                                  0\n",
       "Year Code                             0\n",
       "Drug/Alcohol Induced Cause            0\n",
       "Drug/Alcohol Induced Cause Code       0\n",
       "Deaths                                0\n",
       "dtype: int64"
      ]
     },
     "execution_count": 3,
     "metadata": {},
     "output_type": "execute_result"
    }
   ],
   "source": [
    "missing_values = combined_df.isna().sum()\n",
    "print(\"Missing values in the dataset:\")\n",
    "missing_values"
   ]
  },
  {
   "cell_type": "markdown",
   "metadata": {},
   "source": [
    "## Convert \"Year\" to Categorical Data Type"
   ]
  },
  {
   "cell_type": "code",
   "execution_count": 4,
   "metadata": {},
   "outputs": [
    {
     "data": {
      "text/plain": [
       "dtype('float64')"
      ]
     },
     "execution_count": 4,
     "metadata": {},
     "output_type": "execute_result"
    }
   ],
   "source": [
    "combined_df[\"Year\"].dtype"
   ]
  },
  {
   "cell_type": "code",
   "execution_count": 5,
   "metadata": {},
   "outputs": [
    {
     "data": {
      "text/plain": [
       "CategoricalDtype(categories=[2003.0, 2004.0, 2005.0, 2006.0, 2007.0, 2008.0, 2009.0,\n",
       "                  2010.0, 2011.0, 2012.0, 2013.0, 2014.0, 2015.0],\n",
       ", ordered=False, categories_dtype=float64)"
      ]
     },
     "execution_count": 5,
     "metadata": {},
     "output_type": "execute_result"
    }
   ],
   "source": [
    "# Convert 'Year' from float to categorical\n",
    "combined_df[\"Year\"] = combined_df[\"Year\"].astype(\"category\")\n",
    "\n",
    "# Check the new data type\n",
    "combined_df[\"Year\"].dtype"
   ]
  },
  {
   "cell_type": "markdown",
   "metadata": {},
   "source": [
    "## Filter Drug Related Deaths Only"
   ]
  },
  {
   "cell_type": "code",
   "execution_count": 6,
   "metadata": {},
   "outputs": [
    {
     "data": {
      "text/plain": [
       "Drug/Alcohol Induced Cause\n",
       "All other non-drug and non-alcohol causes             4586\n",
       "Drug poisonings (overdose) Unintentional (X40-X44)    1078\n",
       "All other alcohol-induced causes                      1049\n",
       "Drug poisonings (overdose) Suicide (X60-X64)           322\n",
       "All other drug-induced causes                           91\n",
       "Drug poisonings (overdose) Undetermined (Y10-Y14)       48\n",
       "Alcohol poisonings (overdose) (X45, X65, Y15)           42\n",
       "Name: count, dtype: int64"
      ]
     },
     "execution_count": 6,
     "metadata": {},
     "output_type": "execute_result"
    }
   ],
   "source": [
    "combined_df[\"Drug/Alcohol Induced Cause\"].value_counts()"
   ]
  },
  {
   "cell_type": "code",
   "execution_count": 21,
   "metadata": {},
   "outputs": [
    {
     "data": {
      "text/html": [
       "<div>\n",
       "<style scoped>\n",
       "    .dataframe tbody tr th:only-of-type {\n",
       "        vertical-align: middle;\n",
       "    }\n",
       "\n",
       "    .dataframe tbody tr th {\n",
       "        vertical-align: top;\n",
       "    }\n",
       "\n",
       "    .dataframe thead th {\n",
       "        text-align: right;\n",
       "    }\n",
       "</style>\n",
       "<table border=\"1\" class=\"dataframe\">\n",
       "  <thead>\n",
       "    <tr style=\"text-align: right;\">\n",
       "      <th></th>\n",
       "      <th>Notes</th>\n",
       "      <th>County</th>\n",
       "      <th>County Code</th>\n",
       "      <th>Year</th>\n",
       "      <th>Year Code</th>\n",
       "      <th>Drug/Alcohol Induced Cause</th>\n",
       "      <th>Drug/Alcohol Induced Cause Code</th>\n",
       "      <th>Deaths</th>\n",
       "      <th>State</th>\n",
       "    </tr>\n",
       "  </thead>\n",
       "  <tbody>\n",
       "    <tr>\n",
       "      <th>0</th>\n",
       "      <td>NaN</td>\n",
       "      <td>Alachua County, FL</td>\n",
       "      <td>12001.0</td>\n",
       "      <td>2003.0</td>\n",
       "      <td>2003.0</td>\n",
       "      <td>Drug poisonings (overdose) Unintentional (X40-...</td>\n",
       "      <td>D1</td>\n",
       "      <td>11.0</td>\n",
       "      <td>FL</td>\n",
       "    </tr>\n",
       "    <tr>\n",
       "      <th>4</th>\n",
       "      <td>NaN</td>\n",
       "      <td>Bay County, FL</td>\n",
       "      <td>12005.0</td>\n",
       "      <td>2003.0</td>\n",
       "      <td>2003.0</td>\n",
       "      <td>Drug poisonings (overdose) Unintentional (X40-...</td>\n",
       "      <td>D1</td>\n",
       "      <td>21.0</td>\n",
       "      <td>FL</td>\n",
       "    </tr>\n",
       "    <tr>\n",
       "      <th>8</th>\n",
       "      <td>NaN</td>\n",
       "      <td>Brevard County, FL</td>\n",
       "      <td>12009.0</td>\n",
       "      <td>2003.0</td>\n",
       "      <td>2003.0</td>\n",
       "      <td>Drug poisonings (overdose) Unintentional (X40-...</td>\n",
       "      <td>D1</td>\n",
       "      <td>83.0</td>\n",
       "      <td>FL</td>\n",
       "    </tr>\n",
       "    <tr>\n",
       "      <th>9</th>\n",
       "      <td>NaN</td>\n",
       "      <td>Brevard County, FL</td>\n",
       "      <td>12009.0</td>\n",
       "      <td>2003.0</td>\n",
       "      <td>2003.0</td>\n",
       "      <td>Drug poisonings (overdose) Suicide (X60-X64)</td>\n",
       "      <td>D2</td>\n",
       "      <td>14.0</td>\n",
       "      <td>FL</td>\n",
       "    </tr>\n",
       "    <tr>\n",
       "      <th>12</th>\n",
       "      <td>NaN</td>\n",
       "      <td>Broward County, FL</td>\n",
       "      <td>12011.0</td>\n",
       "      <td>2003.0</td>\n",
       "      <td>2003.0</td>\n",
       "      <td>Drug poisonings (overdose) Unintentional (X40-...</td>\n",
       "      <td>D1</td>\n",
       "      <td>170.0</td>\n",
       "      <td>FL</td>\n",
       "    </tr>\n",
       "  </tbody>\n",
       "</table>\n",
       "</div>"
      ],
      "text/plain": [
       "   Notes              County  County Code    Year  Year Code  \\\n",
       "0    NaN  Alachua County, FL      12001.0  2003.0     2003.0   \n",
       "4    NaN      Bay County, FL      12005.0  2003.0     2003.0   \n",
       "8    NaN  Brevard County, FL      12009.0  2003.0     2003.0   \n",
       "9    NaN  Brevard County, FL      12009.0  2003.0     2003.0   \n",
       "12   NaN  Broward County, FL      12011.0  2003.0     2003.0   \n",
       "\n",
       "                           Drug/Alcohol Induced Cause  \\\n",
       "0   Drug poisonings (overdose) Unintentional (X40-...   \n",
       "4   Drug poisonings (overdose) Unintentional (X40-...   \n",
       "8   Drug poisonings (overdose) Unintentional (X40-...   \n",
       "9        Drug poisonings (overdose) Suicide (X60-X64)   \n",
       "12  Drug poisonings (overdose) Unintentional (X40-...   \n",
       "\n",
       "   Drug/Alcohol Induced Cause Code Deaths State  \n",
       "0                               D1   11.0    FL  \n",
       "4                               D1   21.0    FL  \n",
       "8                               D1   83.0    FL  \n",
       "9                               D2   14.0    FL  \n",
       "12                              D1  170.0    FL  "
      ]
     },
     "execution_count": 21,
     "metadata": {},
     "output_type": "execute_result"
    }
   ],
   "source": [
    "# Filter for drug-related deaths\n",
    "drug_related_causes = [\n",
    "    \"Drug poisonings (overdose) Unintentional (X40-X44)\",\n",
    "    \"Drug poisonings (overdose) Suicide (X60-X64)\",\n",
    "    \"All other drug-induced causes\",\n",
    "    \"Drug poisonings (overdose) Undetermined (Y10-Y14)\",\n",
    "]\n",
    "\n",
    "# Filter for drug-related deaths\n",
    "drug_related_df = combined_df[\n",
    "    combined_df[\"Drug/Alcohol Induced Cause\"].isin(drug_related_causes)\n",
    "]\n",
    "drug_related_df.head()"
   ]
  },
  {
   "cell_type": "markdown",
   "metadata": {},
   "source": [
    "## Create a \"State\" Colunm "
   ]
  },
  {
   "cell_type": "code",
   "execution_count": 22,
   "metadata": {},
   "outputs": [
    {
     "data": {
      "text/html": [
       "<div>\n",
       "<style scoped>\n",
       "    .dataframe tbody tr th:only-of-type {\n",
       "        vertical-align: middle;\n",
       "    }\n",
       "\n",
       "    .dataframe tbody tr th {\n",
       "        vertical-align: top;\n",
       "    }\n",
       "\n",
       "    .dataframe thead th {\n",
       "        text-align: right;\n",
       "    }\n",
       "</style>\n",
       "<table border=\"1\" class=\"dataframe\">\n",
       "  <thead>\n",
       "    <tr style=\"text-align: right;\">\n",
       "      <th></th>\n",
       "      <th>Notes</th>\n",
       "      <th>County</th>\n",
       "      <th>County Code</th>\n",
       "      <th>Year</th>\n",
       "      <th>Year Code</th>\n",
       "      <th>Drug/Alcohol Induced Cause</th>\n",
       "      <th>Drug/Alcohol Induced Cause Code</th>\n",
       "      <th>Deaths</th>\n",
       "      <th>State</th>\n",
       "    </tr>\n",
       "  </thead>\n",
       "  <tbody>\n",
       "    <tr>\n",
       "      <th>0</th>\n",
       "      <td>NaN</td>\n",
       "      <td>Alachua County, FL</td>\n",
       "      <td>12001.0</td>\n",
       "      <td>2003.0</td>\n",
       "      <td>2003.0</td>\n",
       "      <td>Drug poisonings (overdose) Unintentional (X40-...</td>\n",
       "      <td>D1</td>\n",
       "      <td>11.0</td>\n",
       "      <td>FL</td>\n",
       "    </tr>\n",
       "    <tr>\n",
       "      <th>4</th>\n",
       "      <td>NaN</td>\n",
       "      <td>Bay County, FL</td>\n",
       "      <td>12005.0</td>\n",
       "      <td>2003.0</td>\n",
       "      <td>2003.0</td>\n",
       "      <td>Drug poisonings (overdose) Unintentional (X40-...</td>\n",
       "      <td>D1</td>\n",
       "      <td>21.0</td>\n",
       "      <td>FL</td>\n",
       "    </tr>\n",
       "    <tr>\n",
       "      <th>8</th>\n",
       "      <td>NaN</td>\n",
       "      <td>Brevard County, FL</td>\n",
       "      <td>12009.0</td>\n",
       "      <td>2003.0</td>\n",
       "      <td>2003.0</td>\n",
       "      <td>Drug poisonings (overdose) Unintentional (X40-...</td>\n",
       "      <td>D1</td>\n",
       "      <td>83.0</td>\n",
       "      <td>FL</td>\n",
       "    </tr>\n",
       "    <tr>\n",
       "      <th>9</th>\n",
       "      <td>NaN</td>\n",
       "      <td>Brevard County, FL</td>\n",
       "      <td>12009.0</td>\n",
       "      <td>2003.0</td>\n",
       "      <td>2003.0</td>\n",
       "      <td>Drug poisonings (overdose) Suicide (X60-X64)</td>\n",
       "      <td>D2</td>\n",
       "      <td>14.0</td>\n",
       "      <td>FL</td>\n",
       "    </tr>\n",
       "    <tr>\n",
       "      <th>12</th>\n",
       "      <td>NaN</td>\n",
       "      <td>Broward County, FL</td>\n",
       "      <td>12011.0</td>\n",
       "      <td>2003.0</td>\n",
       "      <td>2003.0</td>\n",
       "      <td>Drug poisonings (overdose) Unintentional (X40-...</td>\n",
       "      <td>D1</td>\n",
       "      <td>170.0</td>\n",
       "      <td>FL</td>\n",
       "    </tr>\n",
       "    <tr>\n",
       "      <th>...</th>\n",
       "      <td>...</td>\n",
       "      <td>...</td>\n",
       "      <td>...</td>\n",
       "      <td>...</td>\n",
       "      <td>...</td>\n",
       "      <td>...</td>\n",
       "      <td>...</td>\n",
       "      <td>...</td>\n",
       "      <td>...</td>\n",
       "    </tr>\n",
       "    <tr>\n",
       "      <th>7198</th>\n",
       "      <td>NaN</td>\n",
       "      <td>Spokane County, WA</td>\n",
       "      <td>53063.0</td>\n",
       "      <td>2015.0</td>\n",
       "      <td>2015.0</td>\n",
       "      <td>Drug poisonings (overdose) Unintentional (X40-...</td>\n",
       "      <td>D1</td>\n",
       "      <td>74</td>\n",
       "      <td>WA</td>\n",
       "    </tr>\n",
       "    <tr>\n",
       "      <th>7199</th>\n",
       "      <td>NaN</td>\n",
       "      <td>Spokane County, WA</td>\n",
       "      <td>53063.0</td>\n",
       "      <td>2015.0</td>\n",
       "      <td>2015.0</td>\n",
       "      <td>Drug poisonings (overdose) Suicide (X60-X64)</td>\n",
       "      <td>D2</td>\n",
       "      <td>18</td>\n",
       "      <td>WA</td>\n",
       "    </tr>\n",
       "    <tr>\n",
       "      <th>7203</th>\n",
       "      <td>NaN</td>\n",
       "      <td>Thurston County, WA</td>\n",
       "      <td>53067.0</td>\n",
       "      <td>2015.0</td>\n",
       "      <td>2015.0</td>\n",
       "      <td>Drug poisonings (overdose) Unintentional (X40-...</td>\n",
       "      <td>D1</td>\n",
       "      <td>26</td>\n",
       "      <td>WA</td>\n",
       "    </tr>\n",
       "    <tr>\n",
       "      <th>7209</th>\n",
       "      <td>NaN</td>\n",
       "      <td>Whatcom County, WA</td>\n",
       "      <td>53073.0</td>\n",
       "      <td>2015.0</td>\n",
       "      <td>2015.0</td>\n",
       "      <td>Drug poisonings (overdose) Unintentional (X40-...</td>\n",
       "      <td>D1</td>\n",
       "      <td>23</td>\n",
       "      <td>WA</td>\n",
       "    </tr>\n",
       "    <tr>\n",
       "      <th>7213</th>\n",
       "      <td>NaN</td>\n",
       "      <td>Yakima County, WA</td>\n",
       "      <td>53077.0</td>\n",
       "      <td>2015.0</td>\n",
       "      <td>2015.0</td>\n",
       "      <td>Drug poisonings (overdose) Unintentional (X40-...</td>\n",
       "      <td>D1</td>\n",
       "      <td>26</td>\n",
       "      <td>WA</td>\n",
       "    </tr>\n",
       "  </tbody>\n",
       "</table>\n",
       "<p>1539 rows × 9 columns</p>\n",
       "</div>"
      ],
      "text/plain": [
       "     Notes               County  County Code    Year  Year Code  \\\n",
       "0      NaN   Alachua County, FL      12001.0  2003.0     2003.0   \n",
       "4      NaN       Bay County, FL      12005.0  2003.0     2003.0   \n",
       "8      NaN   Brevard County, FL      12009.0  2003.0     2003.0   \n",
       "9      NaN   Brevard County, FL      12009.0  2003.0     2003.0   \n",
       "12     NaN   Broward County, FL      12011.0  2003.0     2003.0   \n",
       "...    ...                  ...          ...     ...        ...   \n",
       "7198   NaN   Spokane County, WA      53063.0  2015.0     2015.0   \n",
       "7199   NaN   Spokane County, WA      53063.0  2015.0     2015.0   \n",
       "7203   NaN  Thurston County, WA      53067.0  2015.0     2015.0   \n",
       "7209   NaN   Whatcom County, WA      53073.0  2015.0     2015.0   \n",
       "7213   NaN    Yakima County, WA      53077.0  2015.0     2015.0   \n",
       "\n",
       "                             Drug/Alcohol Induced Cause  \\\n",
       "0     Drug poisonings (overdose) Unintentional (X40-...   \n",
       "4     Drug poisonings (overdose) Unintentional (X40-...   \n",
       "8     Drug poisonings (overdose) Unintentional (X40-...   \n",
       "9          Drug poisonings (overdose) Suicide (X60-X64)   \n",
       "12    Drug poisonings (overdose) Unintentional (X40-...   \n",
       "...                                                 ...   \n",
       "7198  Drug poisonings (overdose) Unintentional (X40-...   \n",
       "7199       Drug poisonings (overdose) Suicide (X60-X64)   \n",
       "7203  Drug poisonings (overdose) Unintentional (X40-...   \n",
       "7209  Drug poisonings (overdose) Unintentional (X40-...   \n",
       "7213  Drug poisonings (overdose) Unintentional (X40-...   \n",
       "\n",
       "     Drug/Alcohol Induced Cause Code Deaths State  \n",
       "0                                 D1   11.0    FL  \n",
       "4                                 D1   21.0    FL  \n",
       "8                                 D1   83.0    FL  \n",
       "9                                 D2   14.0    FL  \n",
       "12                                D1  170.0    FL  \n",
       "...                              ...    ...   ...  \n",
       "7198                              D1     74    WA  \n",
       "7199                              D2     18    WA  \n",
       "7203                              D1     26    WA  \n",
       "7209                              D1     23    WA  \n",
       "7213                              D1     26    WA  \n",
       "\n",
       "[1539 rows x 9 columns]"
      ]
     },
     "execution_count": 22,
     "metadata": {},
     "output_type": "execute_result"
    }
   ],
   "source": [
    "# Define a function to extract the state abbreviation\n",
    "def extract_state(county_name):\n",
    "    # Split the string by comma and take the last part as the state\n",
    "    parts = county_name.split(\", \")\n",
    "    if len(parts) > 1:\n",
    "        return parts[-1].strip()\n",
    "    return None\n",
    "\n",
    "\n",
    "# Apply the function to create a new 'State' column\n",
    "drug_related_df[\"State\"] = drug_related_df[\"County\"].apply(extract_state)\n",
    "drug_related_df"
   ]
  },
  {
   "cell_type": "markdown",
   "metadata": {},
   "source": [
    "## Convert \"Deaths\" to Numeric"
   ]
  },
  {
   "cell_type": "code",
   "execution_count": 32,
   "metadata": {},
   "outputs": [
    {
     "data": {
      "text/plain": [
       "dtype('O')"
      ]
     },
     "execution_count": 32,
     "metadata": {},
     "output_type": "execute_result"
    }
   ],
   "source": [
    "drug_related_df[\"Deaths\"].dtype"
   ]
  },
  {
   "cell_type": "code",
   "execution_count": 36,
   "metadata": {},
   "outputs": [
    {
     "name": "stdout",
     "output_type": "stream",
     "text": [
      "float64\n"
     ]
    }
   ],
   "source": [
    "drug_related_df[\"Deaths\"] = pd.to_numeric(drug_related_df[\"Deaths\"], errors=\"coerce\")\n",
    "drug_related_df[\"Deaths\"].dtype"
   ]
  },
  {
   "cell_type": "markdown",
   "metadata": {},
   "source": [
    "## Create a new df with Year, County, State, Drug-related Deaths"
   ]
  },
  {
   "cell_type": "markdown",
   "metadata": {},
   "source": [
    "The issue I met here is that the \"Deaths\" column displaying zeros after the groupby operation. To effectively address this, we'll refine our approach to ensure that the data in the \"Deaths\" column is correctly interpreted as numeric and properly aggregated. This involves converting the \"Deaths\" column to a numeric format, accurately extracting state abbreviations, and then performing a groupby operation that groups by \"Year\", \"County\", and \"State\", followed by summing the deaths. By carefully following these steps, we aim to produce a DataFrame that accurately reflects drug-related deaths in each county and state for each year."
   ]
  },
  {
   "cell_type": "code",
   "execution_count": 48,
   "metadata": {},
   "outputs": [
    {
     "name": "stdout",
     "output_type": "stream",
     "text": [
      "[2003.0, 2004.0, 2005.0, 2006.0, 2007.0, ..., 2011.0, 2012.0, 2013.0, 2014.0, 2015.0]\n",
      "Length: 13\n",
      "Categories (13, float64): [2003.0, 2004.0, 2005.0, 2006.0, ..., 2012.0, 2013.0, 2014.0, 2015.0]\n",
      "['Alachua County, FL' 'Bay County, FL' 'Brevard County, FL'\n",
      " 'Broward County, FL' 'Citrus County, FL' 'Clay County, FL'\n",
      " 'Collier County, FL' 'Duval County, FL' 'Escambia County, FL'\n",
      " 'Hernando County, FL' 'Highlands County, FL' 'Hillsborough County, FL'\n",
      " 'Indian River County, FL' 'Lake County, FL' 'Lee County, FL'\n",
      " 'Leon County, FL' 'Manatee County, FL' 'Marion County, FL'\n",
      " 'Martin County, FL' 'Miami-Dade County, FL' 'Monroe County, FL'\n",
      " 'Okaloosa County, FL' 'Orange County, FL' 'Osceola County, FL'\n",
      " 'Palm Beach County, FL' 'Pasco County, FL' 'Pinellas County, FL'\n",
      " 'Polk County, FL' 'St. Lucie County, FL' 'Santa Rosa County, FL'\n",
      " 'Sarasota County, FL' 'Seminole County, FL' 'Volusia County, FL'\n",
      " 'Bexar County, TX' 'Brazoria County, TX' 'Collin County, TX'\n",
      " 'Comal County, TX' 'Dallas County, TX' 'Denton County, TX'\n",
      " 'Ector County, TX' 'El Paso County, TX' 'Fort Bend County, TX'\n",
      " 'Galveston County, TX' 'Harris County, TX' 'Jefferson County, TX'\n",
      " 'Lubbock County, TX' 'Montgomery County, TX' 'Nueces County, TX'\n",
      " 'Orange County, TX' 'Parker County, TX' 'Tarrant County, TX'\n",
      " 'Taylor County, TX' 'Tom Green County, TX' 'Travis County, TX'\n",
      " 'Webb County, TX' 'Wichita County, TX' 'Williamson County, TX'\n",
      " 'Benton County, WA' 'Clark County, WA' 'King County, WA'\n",
      " 'Kitsap County, WA' 'Pierce County, WA' 'Skagit County, WA'\n",
      " 'Snohomish County, WA' 'Spokane County, WA' 'Thurston County, WA'\n",
      " 'Whatcom County, WA' 'Yakima County, WA' 'Charlotte County, FL'\n",
      " 'Nassau County, FL' 'Putnam County, FL' 'St. Johns County, FL'\n",
      " 'Anderson County, TX' 'Cameron County, TX' 'Hidalgo County, TX'\n",
      " 'McLennan County, TX' 'Smith County, TX' 'Clallam County, WA'\n",
      " 'Cowlitz County, WA' 'Grant County, WA' 'Grays Harbor County, WA'\n",
      " 'Columbia County, FL' 'Walton County, FL' 'Bell County, TX'\n",
      " 'Gregg County, TX' 'Hardin County, TX' 'Midland County, TX'\n",
      " 'Lewis County, WA' 'Aransas County, TX' 'Grayson County, TX'\n",
      " 'Guadalupe County, TX' 'Johnson County, TX' 'Liberty County, TX'\n",
      " 'Polk County, TX' 'Stevens County, WA' 'San Patricio County, TX'\n",
      " 'Okeechobee County, FL' 'Brazos County, TX' 'Cooke County, TX'\n",
      " 'Hays County, TX' 'Henderson County, TX' 'Hunt County, TX'\n",
      " 'Kaufman County, TX' 'Potter County, TX' 'Victoria County, TX'\n",
      " 'Ellis County, TX' 'Hopkins County, TX' 'Chelan County, WA'\n",
      " 'Flagler County, FL' 'Kerr County, TX' 'Levy County, FL'\n",
      " 'Randall County, TX' 'Van Zandt County, TX' 'Island County, WA'\n",
      " 'Mason County, WA' 'Bastrop County, TX' 'Hood County, TX'\n",
      " 'Walla Walla County, WA' 'Sumter County, FL' 'Nacogdoches County, TX']\n",
      "[12001. 12005. 12009. 12011. 12017. 12019. 12021. 12031. 12033. 12053.\n",
      " 12055. 12057. 12061. 12069. 12071. 12073. 12081. 12083. 12085. 12086.\n",
      " 12087. 12091. 12095. 12097. 12099. 12101. 12103. 12105. 12111. 12113.\n",
      " 12115. 12117. 12127. 48029. 48039. 48085. 48091. 48113. 48121. 48135.\n",
      " 48141. 48157. 48167. 48201. 48245. 48303. 48339. 48355. 48361. 48367.\n",
      " 48439. 48441. 48451. 48453. 48479. 48485. 48491. 53005. 53011. 53033.\n",
      " 53035. 53053. 53057. 53061. 53063. 53067. 53073. 53077. 12015. 12089.\n",
      " 12107. 12109. 48001. 48061. 48215. 48309. 48423. 53009. 53015. 53025.\n",
      " 53027. 12023. 12131. 48027. 48183. 48199. 48329. 53041. 48007. 48181.\n",
      " 48187. 48251. 48291. 48373. 53065. 48409. 12093. 48041. 48097. 48209.\n",
      " 48213. 48231. 48257. 48375. 48469. 48139. 48223. 53007. 12035. 48265.\n",
      " 12075. 48381. 48467. 53029. 53045. 48021. 48221. 53071. 12119. 48347.]\n",
      "['FL' 'TX' 'WA']\n"
     ]
    }
   ],
   "source": [
    "# Check unique values in each grouping column\n",
    "print(drug_related_df[\"Year\"].unique())\n",
    "print(drug_related_df[\"County\"].unique())\n",
    "print(drug_related_df[\"County Code\"].unique())\n",
    "print(drug_related_df[\"State\"].unique())"
   ]
  },
  {
   "cell_type": "code",
   "execution_count": 57,
   "metadata": {},
   "outputs": [
    {
     "name": "stdout",
     "output_type": "stream",
     "text": [
      "     Notes                 County  County Code    Year  Year Code  \\\n",
      "1712   NaN  Palm Beach County, FL      12099.0  2006.0     2006.0   \n",
      "3264   NaN     Broward County, FL      12011.0  2009.0     2009.0   \n",
      "3934   NaN   St. Lucie County, FL      12111.0  2010.0     2010.0   \n",
      "159    NaN       Bexar County, TX      48029.0  2003.0     2003.0   \n",
      "4028   NaN      Dallas County, TX      48113.0  2010.0     2010.0   \n",
      "\n",
      "                             Drug/Alcohol Induced Cause  \\\n",
      "1712  Drug poisonings (overdose) Undetermined (Y10-Y14)   \n",
      "3264  Drug poisonings (overdose) Undetermined (Y10-Y14)   \n",
      "3934  Drug poisonings (overdose) Unintentional (X40-...   \n",
      "159        Drug poisonings (overdose) Suicide (X60-X64)   \n",
      "4028       Drug poisonings (overdose) Suicide (X60-X64)   \n",
      "\n",
      "     Drug/Alcohol Induced Cause Code  Deaths State Correct_State  \n",
      "1712                              D4    21.0    FL            FL  \n",
      "3264                              D4    16.0    FL            FL  \n",
      "3934                              D1    43.0    FL            FL  \n",
      "159                               D2    25.0    TX            TX  \n",
      "4028                              D2    36.0    TX            TX  \n"
     ]
    }
   ],
   "source": [
    "# Inspect the data before grouping\n",
    "print(drug_related_df.sample(5))"
   ]
  },
  {
   "cell_type": "code",
   "execution_count": 51,
   "metadata": {},
   "outputs": [
    {
     "name": "stdout",
     "output_type": "stream",
     "text": [
      "        Year                County  Deaths\n",
      "898   2010.0     Kitsap County, WA    19.0\n",
      "1415  2014.0   Sarasota County, FL    54.0\n",
      "999   2011.0  Guadalupe County, TX    11.0\n",
      "62    2003.0       Levy County, FL     0.0\n",
      "376   2006.0    Clallam County, WA    15.0\n"
     ]
    }
   ],
   "source": [
    "# Simplified grouping: Initially group by fewer columns\n",
    "simplified_grouped_df = (\n",
    "    drug_related_df.groupby([\"Year\", \"County\"])[\"Deaths\"].sum().reset_index()\n",
    ")\n",
    "\n",
    "# Check the simplified grouped DataFrame\n",
    "print(simplified_grouped_df.sample(5))"
   ]
  },
  {
   "cell_type": "markdown",
   "metadata": {},
   "source": [
    "This suggests that the problem probably is not with the \"State\" column but potentially with the \"County Code\" or how the counties are labeled in the dataset. There might be discrepancies in the \"County Code\" values for the same \"County\", leading to the splitting of data and resulting in zero values."
   ]
  },
  {
   "cell_type": "code",
   "execution_count": 53,
   "metadata": {},
   "outputs": [
    {
     "name": "stdout",
     "output_type": "stream",
     "text": [
      "          Year               County  County Code  Deaths\n",
      "382     2003.0   Bastrop County, TX      12085.0     0.0\n",
      "136587  2012.0    Kitsap County, WA      12093.0     0.0\n",
      "67359   2007.0    Orange County, TX      12117.0     0.0\n",
      "118724  2011.0   El Paso County, TX      48007.0     0.0\n",
      "53759   2006.0  Pinellas County, FL      53077.0     0.0\n"
     ]
    }
   ],
   "source": [
    "# Group by Year, County, and County Code, and sum the deaths\n",
    "grouped_df_with_code = (\n",
    "    drug_related_df.groupby([\"Year\", \"County\", \"County Code\"])[\"Deaths\"]\n",
    "    .sum()\n",
    "    .reset_index()\n",
    ")\n",
    "\n",
    "# Check the grouped DataFrame\n",
    "print(grouped_df_with_code.sample(5))\n"
   ]
  },
  {
   "cell_type": "code",
   "execution_count": 55,
   "metadata": {},
   "outputs": [
    {
     "name": "stdout",
     "output_type": "stream",
     "text": [
      "        Year              County State  Deaths\n",
      "4201  2014.0   Orange County, FL    TX     0.0\n",
      "351   2003.0  Wichita County, TX    FL     0.0\n",
      "963   2005.0   Orange County, TX    FL     0.0\n",
      "3637  2013.0  Cameron County, TX    TX     0.0\n",
      "3047  2011.0  Kaufman County, TX    WA     0.0\n"
     ]
    }
   ],
   "source": [
    "# Group by Year, County, and State, and sum the deaths\n",
    "grouped_df_without_code = (\n",
    "    drug_related_df.groupby([\"Year\", \"County\", \"State\"])[\"Deaths\"].sum().reset_index()\n",
    ")\n",
    "\n",
    "# Check the grouped DataFrame\n",
    "print(grouped_df_without_code.sample(5))"
   ]
  },
  {
   "cell_type": "markdown",
   "metadata": {},
   "source": [
    "In the process of addressing the issue with the \"Deaths\" column displaying zeros, I made a decision to group the data by \"Year\", \"County\", and \"State\". This approach means I'm not including the \"County Code\" in the grouping.\n",
    "\n",
    "When I perform a groupby operation in pandas, each group is defined by the unique combinations of values in the specified columns. Since I am grouping by \"Year\", \"County\", and \"State\", the \"County Code\" is not part of this unique combination, and thus not included in the final grouped DataFrame.\n",
    "\n",
    "However, if the \"County Code\" is important for the future analysis, we could potentially include it in the grouping. This would result in groups defined by the unique combinations of \"Year\", \"County\", \"County Code\", and \"State\". Just be aware that if the \"County Code\" varies for the same \"County\" and \"State\" across different years, this would create more granular groups, potentially affecting the aggregation of deaths."
   ]
  },
  {
   "cell_type": "code",
   "execution_count": 60,
   "metadata": {},
   "outputs": [
    {
     "data": {
      "text/html": [
       "<div>\n",
       "<style scoped>\n",
       "    .dataframe tbody tr th:only-of-type {\n",
       "        vertical-align: middle;\n",
       "    }\n",
       "\n",
       "    .dataframe tbody tr th {\n",
       "        vertical-align: top;\n",
       "    }\n",
       "\n",
       "    .dataframe thead th {\n",
       "        text-align: right;\n",
       "    }\n",
       "</style>\n",
       "<table border=\"1\" class=\"dataframe\">\n",
       "  <thead>\n",
       "    <tr style=\"text-align: right;\">\n",
       "      <th></th>\n",
       "      <th>Year</th>\n",
       "      <th>County</th>\n",
       "      <th>Correct_State</th>\n",
       "      <th>Deaths</th>\n",
       "    </tr>\n",
       "  </thead>\n",
       "  <tbody>\n",
       "    <tr>\n",
       "      <th>615</th>\n",
       "      <td>2004.0</td>\n",
       "      <td>Pasco County, FL</td>\n",
       "      <td>FL</td>\n",
       "      <td>83.0</td>\n",
       "    </tr>\n",
       "    <tr>\n",
       "      <th>2839</th>\n",
       "      <td>2010.0</td>\n",
       "      <td>Taylor County, TX</td>\n",
       "      <td>TX</td>\n",
       "      <td>12.0</td>\n",
       "    </tr>\n",
       "    <tr>\n",
       "      <th>876</th>\n",
       "      <td>2005.0</td>\n",
       "      <td>Island County, WA</td>\n",
       "      <td>FL</td>\n",
       "      <td>0.0</td>\n",
       "    </tr>\n",
       "    <tr>\n",
       "      <th>3927</th>\n",
       "      <td>2013.0</td>\n",
       "      <td>Travis County, TX</td>\n",
       "      <td>FL</td>\n",
       "      <td>0.0</td>\n",
       "    </tr>\n",
       "    <tr>\n",
       "      <th>1404</th>\n",
       "      <td>2006.0</td>\n",
       "      <td>Tom Green County, TX</td>\n",
       "      <td>FL</td>\n",
       "      <td>0.0</td>\n",
       "    </tr>\n",
       "  </tbody>\n",
       "</table>\n",
       "</div>"
      ],
      "text/plain": [
       "        Year                County Correct_State  Deaths\n",
       "615   2004.0      Pasco County, FL            FL    83.0\n",
       "2839  2010.0     Taylor County, TX            TX    12.0\n",
       "876   2005.0     Island County, WA            FL     0.0\n",
       "3927  2013.0     Travis County, TX            FL     0.0\n",
       "1404  2006.0  Tom Green County, TX            FL     0.0"
      ]
     },
     "execution_count": 60,
     "metadata": {},
     "output_type": "execute_result"
    }
   ],
   "source": [
    "# Define a function to extract the correct state abbreviation\n",
    "def extract_correct_state(county_name):\n",
    "    # Extract the state abbreviation from the county name\n",
    "    parts = county_name.split(\", \")\n",
    "    if len(parts) > 1:\n",
    "        return parts[-1].strip()\n",
    "    return None\n",
    "\n",
    "\n",
    "# Apply the function to create a new 'Correct_State' column\n",
    "drug_related_df[\"Correct_State\"] = drug_related_df[\"County\"].apply(\n",
    "    extract_correct_state\n",
    ")\n",
    "\n",
    "# Group by Year, County, and Correct_State, and sum the deaths\n",
    "grouped_correct_df = (\n",
    "    drug_related_df.groupby([\"Year\", \"County\", \"Correct_State\"])[\"Deaths\"]\n",
    "    .sum()\n",
    "    .reset_index()\n",
    ")\n",
    "\n",
    "# Check the grouped DataFrame\n",
    "grouped_correct_df.sample(5)"
   ]
  },
  {
   "cell_type": "markdown",
   "metadata": {},
   "source": [
    "## Washington"
   ]
  },
  {
   "cell_type": "code",
   "execution_count": 61,
   "metadata": {},
   "outputs": [
    {
     "data": {
      "text/html": [
       "<div>\n",
       "<style scoped>\n",
       "    .dataframe tbody tr th:only-of-type {\n",
       "        vertical-align: middle;\n",
       "    }\n",
       "\n",
       "    .dataframe tbody tr th {\n",
       "        vertical-align: top;\n",
       "    }\n",
       "\n",
       "    .dataframe thead th {\n",
       "        text-align: right;\n",
       "    }\n",
       "</style>\n",
       "<table border=\"1\" class=\"dataframe\">\n",
       "  <thead>\n",
       "    <tr style=\"text-align: right;\">\n",
       "      <th></th>\n",
       "      <th>Year</th>\n",
       "      <th>County</th>\n",
       "      <th>Correct_State</th>\n",
       "      <th>Deaths</th>\n",
       "    </tr>\n",
       "  </thead>\n",
       "  <tbody>\n",
       "    <tr>\n",
       "      <th>551</th>\n",
       "      <td>2004.0</td>\n",
       "      <td>Lewis County, WA</td>\n",
       "      <td>WA</td>\n",
       "      <td>0.0</td>\n",
       "    </tr>\n",
       "    <tr>\n",
       "      <th>2564</th>\n",
       "      <td>2010.0</td>\n",
       "      <td>Chelan County, WA</td>\n",
       "      <td>WA</td>\n",
       "      <td>11.0</td>\n",
       "    </tr>\n",
       "    <tr>\n",
       "      <th>3710</th>\n",
       "      <td>2013.0</td>\n",
       "      <td>Grays Harbor County, WA</td>\n",
       "      <td>WA</td>\n",
       "      <td>12.0</td>\n",
       "    </tr>\n",
       "    <tr>\n",
       "      <th>1547</th>\n",
       "      <td>2007.0</td>\n",
       "      <td>Grant County, WA</td>\n",
       "      <td>WA</td>\n",
       "      <td>11.0</td>\n",
       "    </tr>\n",
       "    <tr>\n",
       "      <th>3239</th>\n",
       "      <td>2011.0</td>\n",
       "      <td>Yakima County, WA</td>\n",
       "      <td>WA</td>\n",
       "      <td>14.0</td>\n",
       "    </tr>\n",
       "  </tbody>\n",
       "</table>\n",
       "</div>"
      ],
      "text/plain": [
       "        Year                   County Correct_State  Deaths\n",
       "551   2004.0         Lewis County, WA            WA     0.0\n",
       "2564  2010.0        Chelan County, WA            WA    11.0\n",
       "3710  2013.0  Grays Harbor County, WA            WA    12.0\n",
       "1547  2007.0         Grant County, WA            WA    11.0\n",
       "3239  2011.0        Yakima County, WA            WA    14.0"
      ]
     },
     "execution_count": 61,
     "metadata": {},
     "output_type": "execute_result"
    }
   ],
   "source": [
    "# Filter for rows where both 'County' and 'State' columns indicate Washington State\n",
    "wa_data = grouped_correct_df[\n",
    "    (grouped_correct_df[\"County\"].str.contains(\", WA\"))\n",
    "    & (grouped_correct_df[\"Correct_State\"] == \"WA\")\n",
    "]\n",
    "wa_data.sample(5)"
   ]
  },
  {
   "cell_type": "markdown",
   "metadata": {},
   "source": [
    "## Taxas"
   ]
  },
  {
   "cell_type": "code",
   "execution_count": 62,
   "metadata": {},
   "outputs": [
    {
     "data": {
      "text/html": [
       "<div>\n",
       "<style scoped>\n",
       "    .dataframe tbody tr th:only-of-type {\n",
       "        vertical-align: middle;\n",
       "    }\n",
       "\n",
       "    .dataframe tbody tr th {\n",
       "        vertical-align: top;\n",
       "    }\n",
       "\n",
       "    .dataframe thead th {\n",
       "        text-align: right;\n",
       "    }\n",
       "</style>\n",
       "<table border=\"1\" class=\"dataframe\">\n",
       "  <thead>\n",
       "    <tr style=\"text-align: right;\">\n",
       "      <th></th>\n",
       "      <th>Year</th>\n",
       "      <th>County</th>\n",
       "      <th>Correct_State</th>\n",
       "      <th>Deaths</th>\n",
       "    </tr>\n",
       "  </thead>\n",
       "  <tbody>\n",
       "    <tr>\n",
       "      <th>1606</th>\n",
       "      <td>2007.0</td>\n",
       "      <td>Kaufman County, TX</td>\n",
       "      <td>TX</td>\n",
       "      <td>0.0</td>\n",
       "    </tr>\n",
       "    <tr>\n",
       "      <th>2488</th>\n",
       "      <td>2009.0</td>\n",
       "      <td>Travis County, TX</td>\n",
       "      <td>TX</td>\n",
       "      <td>115.0</td>\n",
       "    </tr>\n",
       "    <tr>\n",
       "      <th>4546</th>\n",
       "      <td>2015.0</td>\n",
       "      <td>Nacogdoches County, TX</td>\n",
       "      <td>TX</td>\n",
       "      <td>15.0</td>\n",
       "    </tr>\n",
       "    <tr>\n",
       "      <th>115</th>\n",
       "      <td>2003.0</td>\n",
       "      <td>Gregg County, TX</td>\n",
       "      <td>TX</td>\n",
       "      <td>0.0</td>\n",
       "    </tr>\n",
       "    <tr>\n",
       "      <th>724</th>\n",
       "      <td>2005.0</td>\n",
       "      <td>Anderson County, TX</td>\n",
       "      <td>TX</td>\n",
       "      <td>0.0</td>\n",
       "    </tr>\n",
       "  </tbody>\n",
       "</table>\n",
       "</div>"
      ],
      "text/plain": [
       "        Year                  County Correct_State  Deaths\n",
       "1606  2007.0      Kaufman County, TX            TX     0.0\n",
       "2488  2009.0       Travis County, TX            TX   115.0\n",
       "4546  2015.0  Nacogdoches County, TX            TX    15.0\n",
       "115   2003.0        Gregg County, TX            TX     0.0\n",
       "724   2005.0     Anderson County, TX            TX     0.0"
      ]
     },
     "execution_count": 62,
     "metadata": {},
     "output_type": "execute_result"
    }
   ],
   "source": [
    "# Filter for Texas\n",
    "tx_data = grouped_correct_df[\n",
    "    (grouped_correct_df[\"County\"].str.contains(\", TX\"))\n",
    "    & (grouped_correct_df[\"Correct_State\"] == \"TX\")\n",
    "]\n",
    "tx_data.sample(5)"
   ]
  },
  {
   "cell_type": "markdown",
   "metadata": {},
   "source": [
    "## Florida"
   ]
  },
  {
   "cell_type": "code",
   "execution_count": 63,
   "metadata": {},
   "outputs": [
    {
     "data": {
      "text/html": [
       "<div>\n",
       "<style scoped>\n",
       "    .dataframe tbody tr th:only-of-type {\n",
       "        vertical-align: middle;\n",
       "    }\n",
       "\n",
       "    .dataframe tbody tr th {\n",
       "        vertical-align: top;\n",
       "    }\n",
       "\n",
       "    .dataframe thead th {\n",
       "        text-align: right;\n",
       "    }\n",
       "</style>\n",
       "<table border=\"1\" class=\"dataframe\">\n",
       "  <thead>\n",
       "    <tr style=\"text-align: right;\">\n",
       "      <th></th>\n",
       "      <th>Year</th>\n",
       "      <th>County</th>\n",
       "      <th>Correct_State</th>\n",
       "      <th>Deaths</th>\n",
       "    </tr>\n",
       "  </thead>\n",
       "  <tbody>\n",
       "    <tr>\n",
       "      <th>2937</th>\n",
       "      <td>2011.0</td>\n",
       "      <td>Collier County, FL</td>\n",
       "      <td>FL</td>\n",
       "      <td>41.0</td>\n",
       "    </tr>\n",
       "    <tr>\n",
       "      <th>4113</th>\n",
       "      <td>2014.0</td>\n",
       "      <td>Indian River County, FL</td>\n",
       "      <td>FL</td>\n",
       "      <td>22.0</td>\n",
       "    </tr>\n",
       "    <tr>\n",
       "      <th>3216</th>\n",
       "      <td>2011.0</td>\n",
       "      <td>Volusia County, FL</td>\n",
       "      <td>FL</td>\n",
       "      <td>89.0</td>\n",
       "    </tr>\n",
       "    <tr>\n",
       "      <th>4092</th>\n",
       "      <td>2014.0</td>\n",
       "      <td>Hernando County, FL</td>\n",
       "      <td>FL</td>\n",
       "      <td>25.0</td>\n",
       "    </tr>\n",
       "    <tr>\n",
       "      <th>4200</th>\n",
       "      <td>2014.0</td>\n",
       "      <td>Orange County, FL</td>\n",
       "      <td>FL</td>\n",
       "      <td>177.0</td>\n",
       "    </tr>\n",
       "  </tbody>\n",
       "</table>\n",
       "</div>"
      ],
      "text/plain": [
       "        Year                   County Correct_State  Deaths\n",
       "2937  2011.0       Collier County, FL            FL    41.0\n",
       "4113  2014.0  Indian River County, FL            FL    22.0\n",
       "3216  2011.0       Volusia County, FL            FL    89.0\n",
       "4092  2014.0      Hernando County, FL            FL    25.0\n",
       "4200  2014.0        Orange County, FL            FL   177.0"
      ]
     },
     "execution_count": 63,
     "metadata": {},
     "output_type": "execute_result"
    }
   ],
   "source": [
    "# Filter for Florida\n",
    "fl_data = grouped_correct_df[\n",
    "    (grouped_correct_df[\"County\"].str.contains(\", FL\"))\n",
    "    & (grouped_correct_df[\"Correct_State\"] == \"FL\")\n",
    "]\n",
    "fl_data.sample(5)"
   ]
  },
  {
   "cell_type": "markdown",
   "metadata": {},
   "source": [
    "## Dealing with Missing Values\n",
    "（wating for the population dataset ready)"
   ]
  },
  {
   "cell_type": "markdown",
   "metadata": {},
   "source": [
    "Suggestion from Nick in our assignement:\n",
    "\n",
    "In light of that, I think there are a couple choices:\n",
    "\n",
    "Calculate the mortality rate for counties, then fill in missing mortality rates with the average mortality rate (not count) for the county's state and year. But to some extent this basically just becomes \"making up data\" given how many counties will have no data at any point during this period until you do these imputations. \n",
    "Limit your analysis to counties that are big enough that the \"only report where 10 or more deaths occur\" rule just never comes into play. This is what's called a \"scope condition\": you're basically limiting your analysis to the study of big counties. This is different from dropping counties without data because when you do that, you are systematically more likely to drop counties with less of an opioid problem (in the social sciences we call this \"selecting on the dependent variable\"). "
   ]
  },
  {
   "cell_type": "code",
   "execution_count": null,
   "metadata": {},
   "outputs": [],
   "source": [
    "# Jiayi has already load this dataset, I load it by mistake\n",
    "\n",
    "# import pandas as pd\n",
    "# import warnings\n",
    "\n",
    "# warnings.filterwarnings(\"ignore\")\n",
    "# pd.set_option(\"mode.copy_on_write\", True)\n",
    "\n",
    "# # summary of mortality for drug and non-drug-related causes for every US county from 2003-2015\n",
    "# data_arcos = \"/Users/castnut/Desktop/720_Practical_Data_Science/final_project/arcos_all_washpost.tsv\"\n",
    "\n",
    "# chunk_size = 1000\n",
    "# chunks = []\n",
    "\n",
    "# for chunk in pd.read_csv(\n",
    "#     data_arcos, sep=\"\\t\", chunksize=chunk_size, skiprows=lambda i: i % 10 != 0\n",
    "# ):\n",
    "#     chunks.append(chunk)\n",
    "\n",
    "# arcos_combined = pd.concat(chunks, ignore_index=True)"
   ]
  },
  {
   "cell_type": "markdown",
   "metadata": {},
   "source": [
    "## 1. What problem are you (or your stakeholder) trying to address?\n",
    "The problem we are addressing is the epidemic of opioid misuse and overdose in the United States. The situation has worsened due to doctors prescribing too many opioids, causing more people to become addicted and leading to more deaths from overdoses. The stakeholders in this scenario could be policymakers, healthcare providers, and public health officials who are concerned with the impact of opioid abuse on individuals and communities. The goal is to evaluate the effectiveness of policy interventions designed to limit the over-prescription of opioids and to assess their impact on both opioid drug prescriptions and mortality from drug overdoses.\n",
    "\n",
    "## 2. What specific question are you seeking to answer with this project?\n",
    "The specific question we are seeking to answer is: \n",
    "\n",
    " **How do policies aimed at regulating the prescription of opioid medications influence the amount of opioids dispensed and the number of fatalities due to drug overdoses?**\n",
    "\n",
    "This question aims to causally link policy interventions with observable outcomes in the realm of public health and drug regulation. By understanding the effects of these policies, stakeholders can make informed decisions about how to best address the opioid misuse.\n",
    "\n",
    "## 3. What is your hypothesized answer to your question?\n",
    "\n",
    "**Strict opioid prescription regulation policies will lead to a decrease in the volume of opioids prescribed.**\n",
    "\n",
    "This could be due to tighter controls on prescription practices, better monitoring of opioid distribution, and increased awareness and education about the risks of opioid misuse. However, while a reduction in opioid prescriptions might be expected, the impact on drug overdose deaths is more complex. It's possible that, in the short term, overdose deaths might increase as individuals who are already addicted turn to illegal and more dangerous substances like heroin or fentanyl. In the long term, however, if the policies are effective in preventing new cases of addiction, we might expect to see a gradual decrease in overdose deaths.\n"
   ]
  },
  {
   "cell_type": "markdown",
   "metadata": {},
   "source": [
    "Further dicussion:\n",
    "1. may need additional dataset as the requirement asked.\n"
   ]
  },
  {
   "cell_type": "markdown",
   "metadata": {},
   "source": [
    "year(categorical), county, county-code, state, sum(drug-related-deaths)\n",
    "\n",
    "a 10 drug 2010\n",
    "a 10 drug2 2010\n",
    "\n",
    "2010 a 20"
   ]
  }
 ],
 "metadata": {
  "kernelspec": {
   "display_name": "base",
   "language": "python",
   "name": "python3"
  },
  "language_info": {
   "codemirror_mode": {
    "name": "ipython",
    "version": 3
   },
   "file_extension": ".py",
   "mimetype": "text/x-python",
   "name": "python",
   "nbconvert_exporter": "python",
   "pygments_lexer": "ipython3",
   "version": "3.10.8"
  }
 },
 "nbformat": 4,
 "nbformat_minor": 2
}
