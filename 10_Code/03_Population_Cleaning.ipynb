{
 "cells": [
  {
   "cell_type": "code",
   "execution_count": 1,
   "metadata": {},
   "outputs": [
    {
     "data": {
      "text/plain": [
       "'\\nThe population data has been taken from https://wonder.cdc.gov/bridged-race-population.html\\nThe data is in the form of tab-separated values, with additional info towards the end of the document, starting with the text \"---\"\\nWe have downloaded the data from 1990 to 2010 separately, and then 2010 to 2020 separately, to maintain the file sizes and ensure complete download of data. We will combine the two in this code.\\nWe will also remove the additional info at the end of the document while reading the file.\\nThe raw downloaded data has been saved in the folder \"00_raw_data\" as \"pop_1990_2010.txt\" and \"pop_2010_2020.txt\" \\n'"
      ]
     },
     "execution_count": 1,
     "metadata": {},
     "output_type": "execute_result"
    }
   ],
   "source": [
    "\"\"\"\n",
    "The population data has been taken from https://wonder.cdc.gov/bridged-race-population.html\n",
    "The data is in the form of tab-separated values, with additional info towards the end of the document, starting with the text \"---\"\n",
    "We have downloaded the data from 1990 to 2010 separately, and then 2010 to 2020 separately, to maintain the file sizes and ensure complete download of data. We will combine the two in this code.\n",
    "We will also remove the additional info at the end of the document while reading the file.\n",
    "The raw downloaded data has been saved in the folder \"00_raw_data\" as \"pop_1990_2010.txt\" and \"pop_2010_2020.txt\" \n",
    "\"\"\""
   ]
  },
  {
   "cell_type": "code",
   "execution_count": 2,
   "metadata": {},
   "outputs": [],
   "source": [
    "# Importing libraries\n",
    "import pandas as pd\n",
    "import numpy as np"
   ]
  },
  {
   "cell_type": "code",
   "execution_count": 3,
   "metadata": {},
   "outputs": [],
   "source": [
    "# Individual file links in the 00_raw_data folder\n",
    "data_1990_2010 = \"https://github.com/MIDS-at-Duke/opioid-2023-group-8-final-opioid/raw/population_cleaning/00_Source_Data/US_Pop_1990_2010.txt\"\n",
    "data_2010_2020 = \"https://github.com/MIDS-at-Duke/opioid-2023-group-8-final-opioid/raw/population_cleaning/00_Source_Data/US_Pop_2010_2020.txt\""
   ]
  },
  {
   "cell_type": "code",
   "execution_count": 4,
   "metadata": {},
   "outputs": [],
   "source": [
    "# Reading the file\n",
    "# We will read the files in chunks of one line, and stop reading when we encounter the text \"---\"\n",
    "df_1990_2010 = pd.DataFrame()\n",
    "df_2010_2020 = pd.DataFrame()\n",
    "\n",
    "\n",
    "def stop_reading(line):\n",
    "    return \"---\" not in line\n",
    "\n",
    "\n",
    "reader = pd.read_csv(data_1990_2010, iterator=True, chunksize=1, sep=\"\\t\")\n",
    "for chunk in reader:\n",
    "    if stop_reading(chunk.to_string()):\n",
    "        df_1990_2010 = pd.concat([df_1990_2010, chunk])\n",
    "    else:\n",
    "        break\n",
    "\n",
    "reader = pd.read_csv(data_2010_2020, iterator=True, chunksize=1, sep=\"\\t\")\n",
    "for chunk in reader:\n",
    "    if stop_reading(chunk.to_string()):\n",
    "        df_2010_2020 = pd.concat([df_2010_2020, chunk])\n",
    "    else:\n",
    "        break"
   ]
  },
  {
   "cell_type": "code",
   "execution_count": 5,
   "metadata": {},
   "outputs": [
    {
     "data": {
      "text/plain": [
       "(66129, 8)"
      ]
     },
     "execution_count": 5,
     "metadata": {},
     "output_type": "execute_result"
    }
   ],
   "source": [
    "df_1990_2010.shape\n",
    "# (66129, 8)"
   ]
  },
  {
   "cell_type": "code",
   "execution_count": 6,
   "metadata": {},
   "outputs": [
    {
     "data": {
      "text/plain": [
       "(31490, 8)"
      ]
     },
     "execution_count": 6,
     "metadata": {},
     "output_type": "execute_result"
    }
   ],
   "source": [
    "df_2010_2020.shape\n",
    "# (31490, 8)"
   ]
  },
  {
   "cell_type": "code",
   "execution_count": 7,
   "metadata": {},
   "outputs": [],
   "source": [
    "# Combining the two dataframes to get the entire 1990 to 2020 data in one dataframe\n",
    "df_1990_2020 = pd.concat([df_1990_2010, df_2010_2020], ignore_index=True)"
   ]
  },
  {
   "cell_type": "code",
   "execution_count": 8,
   "metadata": {},
   "outputs": [
    {
     "data": {
      "text/plain": [
       "(97619, 8)"
      ]
     },
     "execution_count": 8,
     "metadata": {},
     "output_type": "execute_result"
    }
   ],
   "source": [
    "df_1990_2020.shape\n",
    "# (97619, 8)"
   ]
  },
  {
   "cell_type": "code",
   "execution_count": 9,
   "metadata": {},
   "outputs": [
    {
     "name": "stdout",
     "output_type": "stream",
     "text": [
      "<class 'pandas.core.frame.DataFrame'>\n",
      "RangeIndex: 97619 entries, 0 to 97618\n",
      "Data columns (total 8 columns):\n",
      " #   Column                          Non-Null Count  Dtype  \n",
      "---  ------                          --------------  -----  \n",
      " 0   Notes                           0 non-null      float64\n",
      " 1   Yearly July 1st Estimates       97619 non-null  int64  \n",
      " 2   Yearly July 1st Estimates Code  97619 non-null  int64  \n",
      " 3   State                           97619 non-null  object \n",
      " 4   State Code                      97619 non-null  int64  \n",
      " 5   County                          97619 non-null  object \n",
      " 6   County Code                     97619 non-null  int64  \n",
      " 7   Population                      97619 non-null  object \n",
      "dtypes: float64(1), int64(4), object(3)\n",
      "memory usage: 6.0+ MB\n"
     ]
    }
   ],
   "source": [
    "df_1990_2020.info()"
   ]
  },
  {
   "cell_type": "code",
   "execution_count": 10,
   "metadata": {},
   "outputs": [],
   "source": [
    "# Dropping the unnecessary Notes column\n",
    "df_1990_2020 = df_1990_2020.drop(\"Notes\", axis=1)\n",
    "# Dropping the duplicated Yearly July 1st Estimates column\n",
    "df_1990_2020 = df_1990_2020.drop(\"Yearly July 1st Estimates\", axis=1)\n",
    "\n",
    "# Renaming the Year column\n",
    "df_1990_2020 = df_1990_2020.rename(columns={\"Yearly July 1st Estimates Code\": \"Year\"})"
   ]
  },
  {
   "cell_type": "code",
   "execution_count": 11,
   "metadata": {},
   "outputs": [
    {
     "data": {
      "text/html": [
       "<div>\n",
       "<style scoped>\n",
       "    .dataframe tbody tr th:only-of-type {\n",
       "        vertical-align: middle;\n",
       "    }\n",
       "\n",
       "    .dataframe tbody tr th {\n",
       "        vertical-align: top;\n",
       "    }\n",
       "\n",
       "    .dataframe thead th {\n",
       "        text-align: right;\n",
       "    }\n",
       "</style>\n",
       "<table border=\"1\" class=\"dataframe\">\n",
       "  <thead>\n",
       "    <tr style=\"text-align: right;\">\n",
       "      <th></th>\n",
       "      <th>Year</th>\n",
       "      <th>State</th>\n",
       "      <th>State Code</th>\n",
       "      <th>County</th>\n",
       "      <th>County Code</th>\n",
       "      <th>Population</th>\n",
       "    </tr>\n",
       "  </thead>\n",
       "  <tbody>\n",
       "    <tr>\n",
       "      <th>0</th>\n",
       "      <td>1990</td>\n",
       "      <td>Alabama</td>\n",
       "      <td>1</td>\n",
       "      <td>Autauga County, AL</td>\n",
       "      <td>1001</td>\n",
       "      <td>34353</td>\n",
       "    </tr>\n",
       "    <tr>\n",
       "      <th>1</th>\n",
       "      <td>1990</td>\n",
       "      <td>Alabama</td>\n",
       "      <td>1</td>\n",
       "      <td>Baldwin County, AL</td>\n",
       "      <td>1003</td>\n",
       "      <td>98955</td>\n",
       "    </tr>\n",
       "    <tr>\n",
       "      <th>2</th>\n",
       "      <td>1990</td>\n",
       "      <td>Alabama</td>\n",
       "      <td>1</td>\n",
       "      <td>Barbour County, AL</td>\n",
       "      <td>1005</td>\n",
       "      <td>25505</td>\n",
       "    </tr>\n",
       "    <tr>\n",
       "      <th>3</th>\n",
       "      <td>1990</td>\n",
       "      <td>Alabama</td>\n",
       "      <td>1</td>\n",
       "      <td>Bibb County, AL</td>\n",
       "      <td>1007</td>\n",
       "      <td>16697</td>\n",
       "    </tr>\n",
       "    <tr>\n",
       "      <th>4</th>\n",
       "      <td>1990</td>\n",
       "      <td>Alabama</td>\n",
       "      <td>1</td>\n",
       "      <td>Blount County, AL</td>\n",
       "      <td>1009</td>\n",
       "      <td>39473</td>\n",
       "    </tr>\n",
       "  </tbody>\n",
       "</table>\n",
       "</div>"
      ],
      "text/plain": [
       "   Year    State  State Code              County  County Code Population\n",
       "0  1990  Alabama           1  Autauga County, AL         1001      34353\n",
       "1  1990  Alabama           1  Baldwin County, AL         1003      98955\n",
       "2  1990  Alabama           1  Barbour County, AL         1005      25505\n",
       "3  1990  Alabama           1     Bibb County, AL         1007      16697\n",
       "4  1990  Alabama           1   Blount County, AL         1009      39473"
      ]
     },
     "execution_count": 11,
     "metadata": {},
     "output_type": "execute_result"
    }
   ],
   "source": [
    "df_1990_2020.head()"
   ]
  },
  {
   "cell_type": "code",
   "execution_count": 12,
   "metadata": {},
   "outputs": [
    {
     "data": {
      "text/plain": [
       "0"
      ]
     },
     "execution_count": 12,
     "metadata": {},
     "output_type": "execute_result"
    }
   ],
   "source": [
    "# Checking for duplicates at a state-county-year level\n",
    "df_1990_2020[df_1990_2020[[\"State Code\", \"County Code\", \"Year\"]].duplicated()].size\n",
    "# Since the size is 0, there are no duplicates at a state-county-year level"
   ]
  },
  {
   "cell_type": "code",
   "execution_count": 20,
   "metadata": {},
   "outputs": [],
   "source": [
    "# Changing data types according to requirements\n",
    "df_1990_2020[\"Population\"] = df_1990_2020[\"Population\"].replace(\n",
    "    \"Missing\", np.nan\n",
    ")  # Replacing \"Missing\" with NaN\n",
    "df_1990_2020[\"Population\"] = df_1990_2020[\"Population\"].astype(\n",
    "    \"float64\"\n",
    ")  # Changing the data type to float\n",
    "df_1990_2020[\"State Code\"] = df_1990_2020[\"State Code\"].astype(\n",
    "    \"object\"\n",
    ")  # Changing the data type to object\n",
    "df_1990_2020[\"County Code\"] = df_1990_2020[\"County Code\"].astype(\n",
    "    \"object\"\n",
    ")  # Changing the data type to object\n",
    "df_1990_2020[\"Year\"] = pd.to_datetime(\n",
    "    df_1990_2020[\"Year\"], format=\"%Y\"\n",
    ")  # Changing the data type to datetime"
   ]
  },
  {
   "cell_type": "code",
   "execution_count": 14,
   "metadata": {},
   "outputs": [
    {
     "data": {
      "text/plain": [
       "(0,)"
      ]
     },
     "execution_count": 14,
     "metadata": {},
     "output_type": "execute_result"
    }
   ],
   "source": [
    "# Checking if there is missing data in Population for more than 1 year in a row for a state-county combination\n",
    "grouped = df_1990_2020.sort_values(\"Year\").groupby([\"State Code\", \"County Code\"])\n",
    "\n",
    "missing_population = grouped.apply(\n",
    "    lambda x: x[\"Population\"].isnull().astype(int).diff().abs().max() > 1\n",
    ")\n",
    "\n",
    "missing_population[missing_population].shape\n",
    "# (0,)"
   ]
  },
  {
   "cell_type": "code",
   "execution_count": 15,
   "metadata": {},
   "outputs": [],
   "source": [
    "# Filling NA values in population based on interpolation of values from the same state-county from other years\n",
    "df_1990_2020.sort_values(\"Year\", inplace=True)\n",
    "df_1990_2020[\"Population_filled\"] = df_1990_2020[\"Population\"]\n",
    "df_1990_2020[\"Population_filled\"] = df_1990_2020.groupby([\"State Code\", \"County Code\"])[\n",
    "    \"Population_filled\"\n",
    "].transform(lambda group: group.interpolate())\n",
    "df_1990_2020.dropna(subset=[\"Population_filled\"], inplace=True)"
   ]
  },
  {
   "cell_type": "code",
   "execution_count": 16,
   "metadata": {},
   "outputs": [
    {
     "data": {
      "text/html": [
       "<div>\n",
       "<style scoped>\n",
       "    .dataframe tbody tr th:only-of-type {\n",
       "        vertical-align: middle;\n",
       "    }\n",
       "\n",
       "    .dataframe tbody tr th {\n",
       "        vertical-align: top;\n",
       "    }\n",
       "\n",
       "    .dataframe thead th {\n",
       "        text-align: right;\n",
       "    }\n",
       "</style>\n",
       "<table border=\"1\" class=\"dataframe\">\n",
       "  <thead>\n",
       "    <tr style=\"text-align: right;\">\n",
       "      <th></th>\n",
       "      <th>Year</th>\n",
       "      <th>State</th>\n",
       "      <th>State Code</th>\n",
       "      <th>County</th>\n",
       "      <th>County Code</th>\n",
       "      <th>Population</th>\n",
       "      <th>Population_filled</th>\n",
       "    </tr>\n",
       "  </thead>\n",
       "  <tbody>\n",
       "    <tr>\n",
       "      <th>0</th>\n",
       "      <td>1990-01-01</td>\n",
       "      <td>Alabama</td>\n",
       "      <td>1</td>\n",
       "      <td>Autauga County, AL</td>\n",
       "      <td>1001</td>\n",
       "      <td>34353.0</td>\n",
       "      <td>34353.0</td>\n",
       "    </tr>\n",
       "    <tr>\n",
       "      <th>2094</th>\n",
       "      <td>1990-01-01</td>\n",
       "      <td>Ohio</td>\n",
       "      <td>39</td>\n",
       "      <td>Lorain County, OH</td>\n",
       "      <td>39093</td>\n",
       "      <td>271711.0</td>\n",
       "      <td>271711.0</td>\n",
       "    </tr>\n",
       "    <tr>\n",
       "      <th>2095</th>\n",
       "      <td>1990-01-01</td>\n",
       "      <td>Ohio</td>\n",
       "      <td>39</td>\n",
       "      <td>Lucas County, OH</td>\n",
       "      <td>39095</td>\n",
       "      <td>462634.0</td>\n",
       "      <td>462634.0</td>\n",
       "    </tr>\n",
       "    <tr>\n",
       "      <th>2096</th>\n",
       "      <td>1990-01-01</td>\n",
       "      <td>Ohio</td>\n",
       "      <td>39</td>\n",
       "      <td>Madison County, OH</td>\n",
       "      <td>39097</td>\n",
       "      <td>37111.0</td>\n",
       "      <td>37111.0</td>\n",
       "    </tr>\n",
       "    <tr>\n",
       "      <th>2097</th>\n",
       "      <td>1990-01-01</td>\n",
       "      <td>Ohio</td>\n",
       "      <td>39</td>\n",
       "      <td>Mahoning County, OH</td>\n",
       "      <td>39099</td>\n",
       "      <td>265095.0</td>\n",
       "      <td>265095.0</td>\n",
       "    </tr>\n",
       "    <tr>\n",
       "      <th>...</th>\n",
       "      <td>...</td>\n",
       "      <td>...</td>\n",
       "      <td>...</td>\n",
       "      <td>...</td>\n",
       "      <td>...</td>\n",
       "      <td>...</td>\n",
       "      <td>...</td>\n",
       "    </tr>\n",
       "    <tr>\n",
       "      <th>95522</th>\n",
       "      <td>2020-01-01</td>\n",
       "      <td>Kentucky</td>\n",
       "      <td>21</td>\n",
       "      <td>Jackson County, KY</td>\n",
       "      <td>21109</td>\n",
       "      <td>13340.0</td>\n",
       "      <td>13340.0</td>\n",
       "    </tr>\n",
       "    <tr>\n",
       "      <th>95523</th>\n",
       "      <td>2020-01-01</td>\n",
       "      <td>Kentucky</td>\n",
       "      <td>21</td>\n",
       "      <td>Jefferson County, KY</td>\n",
       "      <td>21111</td>\n",
       "      <td>767452.0</td>\n",
       "      <td>767452.0</td>\n",
       "    </tr>\n",
       "    <tr>\n",
       "      <th>95524</th>\n",
       "      <td>2020-01-01</td>\n",
       "      <td>Kentucky</td>\n",
       "      <td>21</td>\n",
       "      <td>Jessamine County, KY</td>\n",
       "      <td>21113</td>\n",
       "      <td>54057.0</td>\n",
       "      <td>54057.0</td>\n",
       "    </tr>\n",
       "    <tr>\n",
       "      <th>95526</th>\n",
       "      <td>2020-01-01</td>\n",
       "      <td>Kentucky</td>\n",
       "      <td>21</td>\n",
       "      <td>Kenton County, KY</td>\n",
       "      <td>21117</td>\n",
       "      <td>167949.0</td>\n",
       "      <td>167949.0</td>\n",
       "    </tr>\n",
       "    <tr>\n",
       "      <th>97618</th>\n",
       "      <td>2020-01-01</td>\n",
       "      <td>Wyoming</td>\n",
       "      <td>56</td>\n",
       "      <td>Weston County, WY</td>\n",
       "      <td>56045</td>\n",
       "      <td>6743.0</td>\n",
       "      <td>6743.0</td>\n",
       "    </tr>\n",
       "  </tbody>\n",
       "</table>\n",
       "<p>97519 rows × 7 columns</p>\n",
       "</div>"
      ],
      "text/plain": [
       "            Year     State State Code                County County Code  \\\n",
       "0     1990-01-01   Alabama          1    Autauga County, AL        1001   \n",
       "2094  1990-01-01      Ohio         39     Lorain County, OH       39093   \n",
       "2095  1990-01-01      Ohio         39      Lucas County, OH       39095   \n",
       "2096  1990-01-01      Ohio         39    Madison County, OH       39097   \n",
       "2097  1990-01-01      Ohio         39   Mahoning County, OH       39099   \n",
       "...          ...       ...        ...                   ...         ...   \n",
       "95522 2020-01-01  Kentucky         21    Jackson County, KY       21109   \n",
       "95523 2020-01-01  Kentucky         21  Jefferson County, KY       21111   \n",
       "95524 2020-01-01  Kentucky         21  Jessamine County, KY       21113   \n",
       "95526 2020-01-01  Kentucky         21     Kenton County, KY       21117   \n",
       "97618 2020-01-01   Wyoming         56     Weston County, WY       56045   \n",
       "\n",
       "       Population  Population_filled  \n",
       "0         34353.0            34353.0  \n",
       "2094     271711.0           271711.0  \n",
       "2095     462634.0           462634.0  \n",
       "2096      37111.0            37111.0  \n",
       "2097     265095.0           265095.0  \n",
       "...           ...                ...  \n",
       "95522     13340.0            13340.0  \n",
       "95523    767452.0           767452.0  \n",
       "95524     54057.0            54057.0  \n",
       "95526    167949.0           167949.0  \n",
       "97618      6743.0             6743.0  \n",
       "\n",
       "[97519 rows x 7 columns]"
      ]
     },
     "execution_count": 16,
     "metadata": {},
     "output_type": "execute_result"
    }
   ],
   "source": [
    "df_1990_2020"
   ]
  },
  {
   "cell_type": "code",
   "execution_count": 17,
   "metadata": {},
   "outputs": [
    {
     "data": {
      "text/html": [
       "<div>\n",
       "<style scoped>\n",
       "    .dataframe tbody tr th:only-of-type {\n",
       "        vertical-align: middle;\n",
       "    }\n",
       "\n",
       "    .dataframe tbody tr th {\n",
       "        vertical-align: top;\n",
       "    }\n",
       "\n",
       "    .dataframe thead th {\n",
       "        text-align: right;\n",
       "    }\n",
       "</style>\n",
       "<table border=\"1\" class=\"dataframe\">\n",
       "  <thead>\n",
       "    <tr style=\"text-align: right;\">\n",
       "      <th></th>\n",
       "      <th>Year</th>\n",
       "      <th>State</th>\n",
       "      <th>State Code</th>\n",
       "      <th>County</th>\n",
       "      <th>County Code</th>\n",
       "      <th>Population</th>\n",
       "      <th>Population_filled</th>\n",
       "    </tr>\n",
       "  </thead>\n",
       "  <tbody>\n",
       "    <tr>\n",
       "      <th>34416</th>\n",
       "      <td>2000-01-01</td>\n",
       "      <td>Virginia</td>\n",
       "      <td>51</td>\n",
       "      <td>Clifton Forge city, VA</td>\n",
       "      <td>51560</td>\n",
       "      <td>NaN</td>\n",
       "      <td>4378.0</td>\n",
       "    </tr>\n",
       "    <tr>\n",
       "      <th>31588</th>\n",
       "      <td>2000-01-01</td>\n",
       "      <td>Alaska</td>\n",
       "      <td>2</td>\n",
       "      <td>Wrangell-Petersburg Census Area, AK</td>\n",
       "      <td>2280</td>\n",
       "      <td>NaN</td>\n",
       "      <td>6681.0</td>\n",
       "    </tr>\n",
       "    <tr>\n",
       "      <th>31581</th>\n",
       "      <td>2000-01-01</td>\n",
       "      <td>Alaska</td>\n",
       "      <td>2</td>\n",
       "      <td>Prince of Wales-Outer Ketchikan Census Area, AK</td>\n",
       "      <td>2201</td>\n",
       "      <td>NaN</td>\n",
       "      <td>6210.0</td>\n",
       "    </tr>\n",
       "    <tr>\n",
       "      <th>31584</th>\n",
       "      <td>2000-01-01</td>\n",
       "      <td>Alaska</td>\n",
       "      <td>2</td>\n",
       "      <td>Skagway-Hoonah-Angoon Census Area, AK</td>\n",
       "      <td>2232</td>\n",
       "      <td>NaN</td>\n",
       "      <td>3453.0</td>\n",
       "    </tr>\n",
       "    <tr>\n",
       "      <th>37565</th>\n",
       "      <td>2001-01-01</td>\n",
       "      <td>Virginia</td>\n",
       "      <td>51</td>\n",
       "      <td>Clifton Forge city, VA</td>\n",
       "      <td>51560</td>\n",
       "      <td>NaN</td>\n",
       "      <td>4378.0</td>\n",
       "    </tr>\n",
       "    <tr>\n",
       "      <th>...</th>\n",
       "      <td>...</td>\n",
       "      <td>...</td>\n",
       "      <td>...</td>\n",
       "      <td>...</td>\n",
       "      <td>...</td>\n",
       "      <td>...</td>\n",
       "      <td>...</td>\n",
       "    </tr>\n",
       "    <tr>\n",
       "      <th>97391</th>\n",
       "      <td>2020-01-01</td>\n",
       "      <td>Virginia</td>\n",
       "      <td>51</td>\n",
       "      <td>Bedford city, VA</td>\n",
       "      <td>51515</td>\n",
       "      <td>NaN</td>\n",
       "      <td>6174.0</td>\n",
       "    </tr>\n",
       "    <tr>\n",
       "      <th>94568</th>\n",
       "      <td>2020-01-01</td>\n",
       "      <td>Alaska</td>\n",
       "      <td>2</td>\n",
       "      <td>Wrangell-Petersburg Census Area, AK</td>\n",
       "      <td>2280</td>\n",
       "      <td>NaN</td>\n",
       "      <td>6681.0</td>\n",
       "    </tr>\n",
       "    <tr>\n",
       "      <th>94566</th>\n",
       "      <td>2020-01-01</td>\n",
       "      <td>Alaska</td>\n",
       "      <td>2</td>\n",
       "      <td>Valdez-Cordova Census Area, AK</td>\n",
       "      <td>2261</td>\n",
       "      <td>NaN</td>\n",
       "      <td>9492.0</td>\n",
       "    </tr>\n",
       "    <tr>\n",
       "      <th>94564</th>\n",
       "      <td>2020-01-01</td>\n",
       "      <td>Alaska</td>\n",
       "      <td>2</td>\n",
       "      <td>Skagway-Hoonah-Angoon Census Area, AK</td>\n",
       "      <td>2232</td>\n",
       "      <td>NaN</td>\n",
       "      <td>3453.0</td>\n",
       "    </tr>\n",
       "    <tr>\n",
       "      <th>94561</th>\n",
       "      <td>2020-01-01</td>\n",
       "      <td>Alaska</td>\n",
       "      <td>2</td>\n",
       "      <td>Prince of Wales-Outer Ketchikan Census Area, AK</td>\n",
       "      <td>2201</td>\n",
       "      <td>NaN</td>\n",
       "      <td>6210.0</td>\n",
       "    </tr>\n",
       "  </tbody>\n",
       "</table>\n",
       "<p>106 rows × 7 columns</p>\n",
       "</div>"
      ],
      "text/plain": [
       "            Year     State State Code  \\\n",
       "34416 2000-01-01  Virginia         51   \n",
       "31588 2000-01-01    Alaska          2   \n",
       "31581 2000-01-01    Alaska          2   \n",
       "31584 2000-01-01    Alaska          2   \n",
       "37565 2001-01-01  Virginia         51   \n",
       "...          ...       ...        ...   \n",
       "97391 2020-01-01  Virginia         51   \n",
       "94568 2020-01-01    Alaska          2   \n",
       "94566 2020-01-01    Alaska          2   \n",
       "94564 2020-01-01    Alaska          2   \n",
       "94561 2020-01-01    Alaska          2   \n",
       "\n",
       "                                                County County Code  \\\n",
       "34416                           Clifton Forge city, VA       51560   \n",
       "31588              Wrangell-Petersburg Census Area, AK        2280   \n",
       "31581  Prince of Wales-Outer Ketchikan Census Area, AK        2201   \n",
       "31584            Skagway-Hoonah-Angoon Census Area, AK        2232   \n",
       "37565                           Clifton Forge city, VA       51560   \n",
       "...                                                ...         ...   \n",
       "97391                                 Bedford city, VA       51515   \n",
       "94568              Wrangell-Petersburg Census Area, AK        2280   \n",
       "94566                   Valdez-Cordova Census Area, AK        2261   \n",
       "94564            Skagway-Hoonah-Angoon Census Area, AK        2232   \n",
       "94561  Prince of Wales-Outer Ketchikan Census Area, AK        2201   \n",
       "\n",
       "       Population  Population_filled  \n",
       "34416         NaN             4378.0  \n",
       "31588         NaN             6681.0  \n",
       "31581         NaN             6210.0  \n",
       "31584         NaN             3453.0  \n",
       "37565         NaN             4378.0  \n",
       "...           ...                ...  \n",
       "97391         NaN             6174.0  \n",
       "94568         NaN             6681.0  \n",
       "94566         NaN             9492.0  \n",
       "94564         NaN             3453.0  \n",
       "94561         NaN             6210.0  \n",
       "\n",
       "[106 rows x 7 columns]"
      ]
     },
     "execution_count": 17,
     "metadata": {},
     "output_type": "execute_result"
    }
   ],
   "source": [
    "df_1990_2020[df_1990_2020[\"Population\"].isnull()]"
   ]
  },
  {
   "cell_type": "code",
   "execution_count": 18,
   "metadata": {},
   "outputs": [
    {
     "data": {
      "text/plain": [
       "State\n",
       "Alaska      74\n",
       "Virginia    32\n",
       "Name: count, dtype: int64"
      ]
     },
     "execution_count": 18,
     "metadata": {},
     "output_type": "execute_result"
    }
   ],
   "source": [
    "df_1990_2020[df_1990_2020[\"Population\"].isnull()][\"State\"].value_counts()"
   ]
  },
  {
   "cell_type": "code",
   "execution_count": 19,
   "metadata": {},
   "outputs": [
    {
     "name": "stdout",
     "output_type": "stream",
     "text": [
      "<class 'pandas.core.frame.DataFrame'>\n",
      "Index: 97519 entries, 0 to 97618\n",
      "Data columns (total 7 columns):\n",
      " #   Column             Non-Null Count  Dtype         \n",
      "---  ------             --------------  -----         \n",
      " 0   Year               97519 non-null  datetime64[ns]\n",
      " 1   State              97519 non-null  object        \n",
      " 2   State Code         97519 non-null  object        \n",
      " 3   County             97519 non-null  object        \n",
      " 4   County Code        97519 non-null  object        \n",
      " 5   Population         97413 non-null  float64       \n",
      " 6   Population_filled  97519 non-null  float64       \n",
      "dtypes: datetime64[ns](1), float64(2), object(4)\n",
      "memory usage: 6.0+ MB\n"
     ]
    }
   ],
   "source": [
    "df_1990_2020.info()"
   ]
  }
 ],
 "metadata": {
  "kernelspec": {
   "display_name": "base",
   "language": "python",
   "name": "python3"
  },
  "language_info": {
   "codemirror_mode": {
    "name": "ipython",
    "version": 3
   },
   "file_extension": ".py",
   "mimetype": "text/x-python",
   "name": "python",
   "nbconvert_exporter": "python",
   "pygments_lexer": "ipython3",
   "version": "3.11.5"
  }
 },
 "nbformat": 4,
 "nbformat_minor": 2
}
