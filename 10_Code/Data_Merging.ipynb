{
 "cells": [
  {
   "cell_type": "code",
   "execution_count": 1,
   "metadata": {},
   "outputs": [],
   "source": [
    "# Importing Libraries\n",
    "import pandas as pd\n",
    "import numpy as np"
   ]
  },
  {
   "cell_type": "code",
   "execution_count": 2,
   "metadata": {},
   "outputs": [],
   "source": [
    "#######################################################"
   ]
  },
  {
   "cell_type": "code",
   "execution_count": 3,
   "metadata": {},
   "outputs": [
    {
     "data": {
      "text/html": [
       "<div>\n",
       "<style scoped>\n",
       "    .dataframe tbody tr th:only-of-type {\n",
       "        vertical-align: middle;\n",
       "    }\n",
       "\n",
       "    .dataframe tbody tr th {\n",
       "        vertical-align: top;\n",
       "    }\n",
       "\n",
       "    .dataframe thead th {\n",
       "        text-align: right;\n",
       "    }\n",
       "</style>\n",
       "<table border=\"1\" class=\"dataframe\">\n",
       "  <thead>\n",
       "    <tr style=\"text-align: right;\">\n",
       "      <th></th>\n",
       "      <th>Year</th>\n",
       "      <th>State</th>\n",
       "      <th>State Code</th>\n",
       "      <th>County</th>\n",
       "      <th>County Code</th>\n",
       "      <th>Population</th>\n",
       "      <th>Population_filled</th>\n",
       "      <th>State_CD</th>\n",
       "    </tr>\n",
       "  </thead>\n",
       "  <tbody>\n",
       "    <tr>\n",
       "      <th>0</th>\n",
       "      <td>1990</td>\n",
       "      <td>Alabama</td>\n",
       "      <td>1</td>\n",
       "      <td>Autauga County, AL</td>\n",
       "      <td>1001</td>\n",
       "      <td>34353.0</td>\n",
       "      <td>34353.0</td>\n",
       "      <td>AL</td>\n",
       "    </tr>\n",
       "    <tr>\n",
       "      <th>1</th>\n",
       "      <td>1990</td>\n",
       "      <td>Ohio</td>\n",
       "      <td>39</td>\n",
       "      <td>Lorain County, OH</td>\n",
       "      <td>39093</td>\n",
       "      <td>271711.0</td>\n",
       "      <td>271711.0</td>\n",
       "      <td>OH</td>\n",
       "    </tr>\n",
       "    <tr>\n",
       "      <th>2</th>\n",
       "      <td>1990</td>\n",
       "      <td>Ohio</td>\n",
       "      <td>39</td>\n",
       "      <td>Lucas County, OH</td>\n",
       "      <td>39095</td>\n",
       "      <td>462634.0</td>\n",
       "      <td>462634.0</td>\n",
       "      <td>OH</td>\n",
       "    </tr>\n",
       "    <tr>\n",
       "      <th>3</th>\n",
       "      <td>1990</td>\n",
       "      <td>Ohio</td>\n",
       "      <td>39</td>\n",
       "      <td>Madison County, OH</td>\n",
       "      <td>39097</td>\n",
       "      <td>37111.0</td>\n",
       "      <td>37111.0</td>\n",
       "      <td>OH</td>\n",
       "    </tr>\n",
       "    <tr>\n",
       "      <th>4</th>\n",
       "      <td>1990</td>\n",
       "      <td>Ohio</td>\n",
       "      <td>39</td>\n",
       "      <td>Mahoning County, OH</td>\n",
       "      <td>39099</td>\n",
       "      <td>265095.0</td>\n",
       "      <td>265095.0</td>\n",
       "      <td>OH</td>\n",
       "    </tr>\n",
       "  </tbody>\n",
       "</table>\n",
       "</div>"
      ],
      "text/plain": [
       "   Year    State  State Code               County County Code  Population  \\\n",
       "0  1990  Alabama           1   Autauga County, AL        1001     34353.0   \n",
       "1  1990     Ohio          39    Lorain County, OH       39093    271711.0   \n",
       "2  1990     Ohio          39     Lucas County, OH       39095    462634.0   \n",
       "3  1990     Ohio          39   Madison County, OH       39097     37111.0   \n",
       "4  1990     Ohio          39  Mahoning County, OH       39099    265095.0   \n",
       "\n",
       "   Population_filled State_CD  \n",
       "0            34353.0       AL  \n",
       "1           271711.0       OH  \n",
       "2           462634.0       OH  \n",
       "3            37111.0       OH  \n",
       "4           265095.0       OH  "
      ]
     },
     "execution_count": 3,
     "metadata": {},
     "output_type": "execute_result"
    }
   ],
   "source": [
    "# Population Data\n",
    "pop_data_path = \"https://github.com/MIDS-at-Duke/opioid-2023-group-8-final-opioid/raw/population_cleaning/20_Intermediate_Files/Cleaned_Population_Data.csv\"\n",
    "pop_data = pd.read_csv(pop_data_path)\n",
    "pop_data[\"Year\"] = pop_data[\"Year\"].str[:4]\n",
    "pop_data[\"State_CD\"] = pop_data[\"County\"].str[-2:]\n",
    "pop_data[\"County Code\"] = pop_data[\"County Code\"].astype(str)\n",
    "pop_data.shape\n",
    "# (97519, 7)\n",
    "pop_data.head()"
   ]
  },
  {
   "cell_type": "code",
   "execution_count": 4,
   "metadata": {},
   "outputs": [
    {
     "data": {
      "text/html": [
       "<div>\n",
       "<style scoped>\n",
       "    .dataframe tbody tr th:only-of-type {\n",
       "        vertical-align: middle;\n",
       "    }\n",
       "\n",
       "    .dataframe tbody tr th {\n",
       "        vertical-align: top;\n",
       "    }\n",
       "\n",
       "    .dataframe thead th {\n",
       "        text-align: right;\n",
       "    }\n",
       "</style>\n",
       "<table border=\"1\" class=\"dataframe\">\n",
       "  <thead>\n",
       "    <tr style=\"text-align: right;\">\n",
       "      <th></th>\n",
       "      <th>Year</th>\n",
       "      <th>County Code</th>\n",
       "      <th>County</th>\n",
       "      <th>State</th>\n",
       "      <th>Deaths</th>\n",
       "    </tr>\n",
       "  </thead>\n",
       "  <tbody>\n",
       "    <tr>\n",
       "      <th>0</th>\n",
       "      <td>2003</td>\n",
       "      <td>10001</td>\n",
       "      <td>Kent County, DE</td>\n",
       "      <td>DE</td>\n",
       "      <td>10.0</td>\n",
       "    </tr>\n",
       "    <tr>\n",
       "      <th>1</th>\n",
       "      <td>2003</td>\n",
       "      <td>10003</td>\n",
       "      <td>New Castle County, DE</td>\n",
       "      <td>DE</td>\n",
       "      <td>54.0</td>\n",
       "    </tr>\n",
       "    <tr>\n",
       "      <th>2</th>\n",
       "      <td>2003</td>\n",
       "      <td>1003</td>\n",
       "      <td>Baldwin County, AL</td>\n",
       "      <td>AL</td>\n",
       "      <td>10.0</td>\n",
       "    </tr>\n",
       "    <tr>\n",
       "      <th>3</th>\n",
       "      <td>2003</td>\n",
       "      <td>1073</td>\n",
       "      <td>Jefferson County, AL</td>\n",
       "      <td>AL</td>\n",
       "      <td>69.0</td>\n",
       "    </tr>\n",
       "    <tr>\n",
       "      <th>4</th>\n",
       "      <td>2003</td>\n",
       "      <td>1097</td>\n",
       "      <td>Mobile County, AL</td>\n",
       "      <td>AL</td>\n",
       "      <td>26.0</td>\n",
       "    </tr>\n",
       "  </tbody>\n",
       "</table>\n",
       "</div>"
      ],
      "text/plain": [
       "   Year County Code                 County State  Deaths\n",
       "0  2003       10001        Kent County, DE    DE    10.0\n",
       "1  2003       10003  New Castle County, DE    DE    54.0\n",
       "2  2003        1003     Baldwin County, AL    AL    10.0\n",
       "3  2003        1073   Jefferson County, AL    AL    69.0\n",
       "4  2003        1097      Mobile County, AL    AL    26.0"
      ]
     },
     "execution_count": 4,
     "metadata": {},
     "output_type": "execute_result"
    }
   ],
   "source": [
    "# Deaths Data\n",
    "dea_data_path = \"https://github.com/MIDS-at-Duke/opioid-2023-group-8-final-opioid/raw/death_cleaning/20_Intermediate_Files/Deaths.csv\"\n",
    "dea_data = pd.read_csv(dea_data_path)\n",
    "dea_data[\"Year\"] = dea_data[\"Year\"].astype(str)\n",
    "dea_data[\"County Code\"] = dea_data[\"County Code\"].astype(str)\n",
    "dea_data.shape\n",
    "# (7888, 5)\n",
    "dea_data.head()"
   ]
  },
  {
   "cell_type": "code",
   "execution_count": 5,
   "metadata": {},
   "outputs": [
    {
     "data": {
      "text/html": [
       "<div>\n",
       "<style scoped>\n",
       "    .dataframe tbody tr th:only-of-type {\n",
       "        vertical-align: middle;\n",
       "    }\n",
       "\n",
       "    .dataframe tbody tr th {\n",
       "        vertical-align: top;\n",
       "    }\n",
       "\n",
       "    .dataframe thead th {\n",
       "        text-align: right;\n",
       "    }\n",
       "</style>\n",
       "<table border=\"1\" class=\"dataframe\">\n",
       "  <thead>\n",
       "    <tr style=\"text-align: right;\">\n",
       "      <th></th>\n",
       "      <th>state</th>\n",
       "      <th>name</th>\n",
       "      <th>MME</th>\n",
       "      <th>transaction_year</th>\n",
       "      <th>fips</th>\n",
       "    </tr>\n",
       "  </thead>\n",
       "  <tbody>\n",
       "    <tr>\n",
       "      <th>0</th>\n",
       "      <td>OR</td>\n",
       "      <td>washington</td>\n",
       "      <td>1.513461e+08</td>\n",
       "      <td>2015</td>\n",
       "      <td>41067</td>\n",
       "    </tr>\n",
       "    <tr>\n",
       "      <th>1</th>\n",
       "      <td>OR</td>\n",
       "      <td>multnomah</td>\n",
       "      <td>2.785412e+08</td>\n",
       "      <td>2015</td>\n",
       "      <td>41051</td>\n",
       "    </tr>\n",
       "    <tr>\n",
       "      <th>2</th>\n",
       "      <td>OR</td>\n",
       "      <td>marion</td>\n",
       "      <td>1.179174e+08</td>\n",
       "      <td>2015</td>\n",
       "      <td>41047</td>\n",
       "    </tr>\n",
       "    <tr>\n",
       "      <th>3</th>\n",
       "      <td>OR</td>\n",
       "      <td>lane</td>\n",
       "      <td>1.979066e+08</td>\n",
       "      <td>2015</td>\n",
       "      <td>41039</td>\n",
       "    </tr>\n",
       "    <tr>\n",
       "      <th>4</th>\n",
       "      <td>OR</td>\n",
       "      <td>tillamook</td>\n",
       "      <td>1.968917e+07</td>\n",
       "      <td>2015</td>\n",
       "      <td>41057</td>\n",
       "    </tr>\n",
       "  </tbody>\n",
       "</table>\n",
       "</div>"
      ],
      "text/plain": [
       "  state        name           MME transaction_year   fips\n",
       "0    OR  washington  1.513461e+08             2015  41067\n",
       "1    OR   multnomah  2.785412e+08             2015  41051\n",
       "2    OR      marion  1.179174e+08             2015  41047\n",
       "3    OR        lane  1.979066e+08             2015  41039\n",
       "4    OR   tillamook  1.968917e+07             2015  41057"
      ]
     },
     "execution_count": 5,
     "metadata": {},
     "output_type": "execute_result"
    }
   ],
   "source": [
    "# Dosages Data\n",
    "dos_data_path = \"https://github.com/MIDS-at-Duke/opioid-2023-group-8-final-opioid/raw/data_merging/20_Intermediate_Files/Dosage_with_CountyCode.csv\"\n",
    "dos_data = pd.read_csv(dos_data_path)\n",
    "dos_data[\"transaction_year\"] = dos_data[\"transaction_year\"].astype(str)\n",
    "dos_data[\"fips\"] = dos_data[\"fips\"].astype(str)\n",
    "dos_data.shape\n",
    "# (13092, 5)\n",
    "dos_data.head()"
   ]
  },
  {
   "cell_type": "code",
   "execution_count": 6,
   "metadata": {},
   "outputs": [],
   "source": [
    "#######################################################"
   ]
  },
  {
   "cell_type": "code",
   "execution_count": 7,
   "metadata": {},
   "outputs": [],
   "source": [
    "fl_pop_data_test_and_control = pop_data[\n",
    "    pop_data[\"State\"].isin([\"Florida\", \"Georgia\", \"Alabama\", \"Tennessee\"])\n",
    "]\n",
    "# Checks\n",
    "\n",
    "# fl_pop_data_test_and_control[\"State\"].unique()\n",
    "# array(['Alabama', 'Tennessee', 'Georgia', 'Florida'], dtype=object)\n",
    "\n",
    "# fl_pop_data_test_and_control[\"State\"].value_counts()\n",
    "# State\n",
    "# Georgia      4929\n",
    "# Tennessee    2945\n",
    "# Alabama      2077\n",
    "# Florida      2077\n",
    "# Name: count, dtype: int64"
   ]
  },
  {
   "cell_type": "code",
   "execution_count": 8,
   "metadata": {},
   "outputs": [],
   "source": [
    "fl_dea_data_test_and_control = dea_data[\n",
    "    dea_data[\"State\"].isin([\"FL\", \"GA\", \"AL\", \"TN\"])\n",
    "]\n",
    "# Checks\n",
    "\n",
    "# fl_dea_data_test_and_control[\"State\"].unique()\n",
    "# array(['AL', 'FL', 'GA', 'TN'], dtype=object)\n",
    "\n",
    "# fl_dea_data_test_and_control[\"State\"].value_counts()\n",
    "# State\n",
    "# FL    458\n",
    "# GA    308\n",
    "# TN    273\n",
    "# AL    166\n",
    "# Name: count, dtype: int64"
   ]
  },
  {
   "cell_type": "code",
   "execution_count": 9,
   "metadata": {},
   "outputs": [],
   "source": [
    "fl_dos_data_test_and_control = dos_data[\n",
    "    dos_data[\"state\"].isin([\"FL\", \"GA\", \"TN\", \"AL\"])\n",
    "]\n",
    "# Checks\n",
    "\n",
    "# fl_dos_data_test_and_control[\"state\"].unique()\n",
    "# array(['ID', 'OK', 'OR', 'WA'], dtype=object)\n",
    "\n",
    "# fl_dos_data_test_and_control[\"state\"].value_counts()\n",
    "# state\n",
    "# GA    2122\n",
    "# TN    1326\n",
    "# AL     938\n",
    "# FL     935\n",
    "# Name: count, dtype: int64"
   ]
  },
  {
   "cell_type": "code",
   "execution_count": 10,
   "metadata": {},
   "outputs": [
    {
     "data": {
      "text/plain": [
       "52033.0"
      ]
     },
     "execution_count": 10,
     "metadata": {},
     "output_type": "execute_result"
    }
   ],
   "source": [
    "# Merging Population and Deaths Data\n",
    "fl_pop_dea_merged = fl_pop_data_test_and_control.merge(\n",
    "    fl_dea_data_test_and_control,\n",
    "    how=\"left\",\n",
    "    left_on=[\"State_CD\", \"County Code\", \"Year\"],\n",
    "    right_on=[\"State\", \"County Code\", \"Year\"],\n",
    ")\n",
    "# Checks\n",
    "\n",
    "fl_pop_data_test_and_control.shape\n",
    "# (12028, 8)\n",
    "fl_pop_dea_merged.shape\n",
    "# (12028, 11)\n",
    "fl_dea_data_test_and_control[\"Deaths\"].sum()\n",
    "# 52033.0\n",
    "fl_pop_dea_merged[\"Deaths\"].sum()\n",
    "# 52033.0"
   ]
  },
  {
   "cell_type": "code",
   "execution_count": 11,
   "metadata": {},
   "outputs": [
    {
     "data": {
      "text/plain": [
       "264345521881.94333"
      ]
     },
     "execution_count": 11,
     "metadata": {},
     "output_type": "execute_result"
    }
   ],
   "source": [
    "# Merging Population + Deaths and Dosages Data\n",
    "\n",
    "fl_pop_dea_dos_merged = fl_pop_dea_merged.merge(\n",
    "    fl_dos_data_test_and_control,\n",
    "    how=\"left\",\n",
    "    left_on=[\"State_CD\", \"County Code\", \"Year\"],\n",
    "    right_on=[\"state\", \"fips\", \"transaction_year\"],\n",
    ")\n",
    "\n",
    "# Checks\n",
    "fl_pop_dea_merged.shape\n",
    "# (12028, 11)\n",
    "fl_pop_dea_dos_merged.shape\n",
    "# (12028, 16)\n",
    "fl_dos_data_test_and_control[\"MME\"].sum()\n",
    "# 264345521881.9433\n",
    "fl_pop_dea_dos_merged[\"MME\"].sum()\n",
    "# 264345521881.94333"
   ]
  },
  {
   "cell_type": "code",
   "execution_count": 12,
   "metadata": {},
   "outputs": [],
   "source": [
    "fl_pop_dea_dos_merged.to_csv(\"../20_Intermediate_Files/Florida_Merged.csv\", index=False)"
   ]
  },
  {
   "cell_type": "code",
   "execution_count": 13,
   "metadata": {},
   "outputs": [],
   "source": [
    "#######################################################"
   ]
  },
  {
   "cell_type": "code",
   "execution_count": 14,
   "metadata": {},
   "outputs": [],
   "source": [
    "wa_pop_data_test_and_control = pop_data[\n",
    "    pop_data[\"State\"].isin([\"Washington\", \"Oregon\", \"Idaho\", \"Oklahoma\"])\n",
    "]\n",
    "\n",
    "# Checks\n",
    "# wa_pop_data_test_and_control[\"State\"].unique()\n",
    "# array(['Oklahoma', 'Texas', 'Arkansas', 'Louisiana'], dtype=object)\n",
    "\n",
    "# wa_pop_data_test_and_control[\"State\"].value_counts()\n",
    "# State\n",
    "# Oklahoma      2387\n",
    "# Idaho         1364\n",
    "# Washington    1209\n",
    "# Oregon        1116\n",
    "# Name: count, dtype: int64"
   ]
  },
  {
   "cell_type": "code",
   "execution_count": 15,
   "metadata": {},
   "outputs": [],
   "source": [
    "wa_dea_data_test_and_control = dea_data[\n",
    "    dea_data[\"State\"].isin([\"WA\", \"OK\", \"ID\", \"OR\"])\n",
    "]\n",
    "# Checks\n",
    "\n",
    "# wa_dea_data_test_and_control[\"State\"].unique()\n",
    "# array(['ID', 'OK', 'OR', 'WA'], dtype=object)\n",
    "\n",
    "# wa_dea_data_test_and_control[\"State\"].value_counts()\n",
    "# State\n",
    "# WA    198\n",
    "# OK    141\n",
    "# OR    102\n",
    "# ID     38\n",
    "# Name: count, dtype: int64"
   ]
  },
  {
   "cell_type": "code",
   "execution_count": 16,
   "metadata": {},
   "outputs": [],
   "source": [
    "wa_dos_data_test_and_control = dos_data[\n",
    "    dos_data[\"state\"].isin([\"WA\", \"OK\", \"ID\", \"OR\"])\n",
    "]\n",
    "# Checks\n",
    "\n",
    "# wa_dos_data_test_and_control[\"state\"].unique()\n",
    "# array(['OR', 'ID', 'OK', 'WA'], dtype=object)\n",
    "\n",
    "# wa_dos_data_test_and_control[\"state\"].value_counts()\n",
    "# state\n",
    "# OK    1078\n",
    "# ID     571\n",
    "# WA     546\n",
    "# OR     484\n",
    "# Name: count, dtype: int64"
   ]
  },
  {
   "cell_type": "code",
   "execution_count": 17,
   "metadata": {},
   "outputs": [
    {
     "data": {
      "text/plain": [
       "20362.0"
      ]
     },
     "execution_count": 17,
     "metadata": {},
     "output_type": "execute_result"
    }
   ],
   "source": [
    "# Merging Population and Deaths Data\n",
    "wa_pop_dea_merged = wa_pop_data_test_and_control.merge(\n",
    "    wa_dea_data_test_and_control,\n",
    "    how=\"left\",\n",
    "    left_on=[\"State_CD\", \"County Code\", \"Year\"],\n",
    "    right_on=[\"State\", \"County Code\", \"Year\"],\n",
    ")\n",
    "# Checks\n",
    "\n",
    "wa_pop_data_test_and_control.shape\n",
    "# (6076, 8)\n",
    "wa_pop_dea_merged.shape\n",
    "# (6076, 11)\n",
    "wa_dea_data_test_and_control[\"Deaths\"].sum()\n",
    "# 20362.0\n",
    "wa_pop_dea_merged[\"Deaths\"].sum()\n",
    "# 20362.0"
   ]
  },
  {
   "cell_type": "code",
   "execution_count": 18,
   "metadata": {},
   "outputs": [
    {
     "data": {
      "text/plain": [
       "87252759791.51248"
      ]
     },
     "execution_count": 18,
     "metadata": {},
     "output_type": "execute_result"
    }
   ],
   "source": [
    "# Merging Population + Deaths and Dosages Data\n",
    "\n",
    "wa_pop_dea_dos_merged = wa_pop_dea_merged.merge(\n",
    "    wa_dos_data_test_and_control,\n",
    "    how=\"left\",\n",
    "    left_on=[\"State_CD\", \"County Code\", \"Year\"],\n",
    "    right_on=[\"state\", \"fips\", \"transaction_year\"],\n",
    ")\n",
    "\n",
    "# Checks\n",
    "wa_pop_dea_merged.shape\n",
    "# (6076, 11)\n",
    "wa_pop_dea_dos_merged.shape\n",
    "# (6076, 16)\n",
    "wa_dos_data_test_and_control[\"MME\"].sum()\n",
    "# 87252759791.51248\n",
    "wa_pop_dea_dos_merged[\"MME\"].sum()\n",
    "# 87252759791.51248"
   ]
  },
  {
   "cell_type": "code",
   "execution_count": 19,
   "metadata": {},
   "outputs": [],
   "source": [
    "wa_pop_dea_dos_merged.to_csv(\n",
    "    \"../20_Intermediate_Files/Washington_Merged.csv\", index=False\n",
    ")"
   ]
  },
  {
   "cell_type": "code",
   "execution_count": 20,
   "metadata": {},
   "outputs": [],
   "source": [
    "#######################################################"
   ]
  },
  {
   "cell_type": "code",
   "execution_count": 21,
   "metadata": {},
   "outputs": [],
   "source": [
    "tx_pop_data_test_and_control = pop_data[\n",
    "    pop_data[\"State\"].isin([\"Texas\", \"Oklahoma\", \"Arkansas\", \"Louisiana\"])\n",
    "]\n",
    "\n",
    "# Checks\n",
    "\n",
    "# tx_pop_data_test_and_control[\"State\"].unique()\n",
    "# array(['Oklahoma', 'Texas', 'Arkansas', 'Louisiana'], dtype=object)\n",
    "\n",
    "# tx_pop_data_test_and_control[\"State\"].value_counts()\n",
    "# State\n",
    "# Texas        7874\n",
    "# Oklahoma     2387\n",
    "# Arkansas     2325\n",
    "# Louisiana    1984\n",
    "# Name: count, dtype: int64"
   ]
  },
  {
   "cell_type": "code",
   "execution_count": 22,
   "metadata": {},
   "outputs": [],
   "source": [
    "tx_dea_data_test_and_control = dea_data[\n",
    "    dea_data[\"State\"].isin([\"TX\", \"OK\", \"AR\", \"LA\"])\n",
    "]\n",
    "\n",
    "# Checks\n",
    "# tx_dea_data_test_and_control[\"State\"].unique()\n",
    "# array(['LA', 'OK', 'TX', 'AR'], dtype=object)\n",
    "\n",
    "# tx_dea_data_test_and_control[\"State\"].value_counts()\n",
    "# State\n",
    "# TX    432\n",
    "# LA    203\n",
    "# OK    141\n",
    "# AR     71\n",
    "# Name: count, dtype: int64"
   ]
  },
  {
   "cell_type": "code",
   "execution_count": 23,
   "metadata": {},
   "outputs": [],
   "source": [
    "tx_dos_data_test_and_control = dos_data[\n",
    "    dos_data[\"state\"].isin([\"TX\", \"OK\", \"AR\", \"LA\"])\n",
    "]\n",
    "# Checks\n",
    "\n",
    "# tx_dos_data_test_and_control[\"state\"].unique()\n",
    "# array(['ID', 'OK', 'OR', 'WA'], dtype=object)\n",
    "\n",
    "# tx_dos_data_test_and_control[\"state\"].value_counts()\n",
    "# state\n",
    "# TX    3160\n",
    "# OK    1078\n",
    "# AR    1046\n",
    "# LA     886\n",
    "# Name: count, dtype: int64"
   ]
  },
  {
   "cell_type": "code",
   "execution_count": 24,
   "metadata": {},
   "outputs": [
    {
     "data": {
      "text/plain": [
       "35067.0"
      ]
     },
     "execution_count": 24,
     "metadata": {},
     "output_type": "execute_result"
    }
   ],
   "source": [
    "# Merging Population and Deaths Data\n",
    "tx_pop_dea_merged = tx_pop_data_test_and_control.merge(\n",
    "    tx_dea_data_test_and_control,\n",
    "    how=\"left\",\n",
    "    left_on=[\"State_CD\", \"County Code\", \"Year\"],\n",
    "    right_on=[\"State\", \"County Code\", \"Year\"],\n",
    ")\n",
    "# Checks\n",
    "\n",
    "tx_pop_data_test_and_control.shape\n",
    "# (14570, 8)\n",
    "tx_pop_dea_merged.shape\n",
    "# (14570, 11)\n",
    "tx_dea_data_test_and_control[\"Deaths\"].sum()\n",
    "# 35067.0\n",
    "tx_pop_dea_merged[\"Deaths\"].sum()\n",
    "# 35067.0"
   ]
  },
  {
   "cell_type": "code",
   "execution_count": 25,
   "metadata": {},
   "outputs": [
    {
     "data": {
      "text/plain": [
       "135540889564.20511"
      ]
     },
     "execution_count": 25,
     "metadata": {},
     "output_type": "execute_result"
    }
   ],
   "source": [
    "# Merging Population + Deaths and Dosages Data\n",
    "\n",
    "tx_pop_dea_dos_merged = tx_pop_dea_merged.merge(\n",
    "    tx_dos_data_test_and_control,\n",
    "    how=\"left\",\n",
    "    left_on=[\"State_CD\", \"County Code\", \"Year\"],\n",
    "    right_on=[\"state\", \"fips\", \"transaction_year\"],\n",
    ")\n",
    "\n",
    "# Checks\n",
    "tx_pop_dea_merged.shape\n",
    "# (14570, 11)\n",
    "tx_pop_dea_dos_merged.shape\n",
    "# (14570, 16)\n",
    "tx_dos_data_test_and_control[\"MME\"].sum()\n",
    "# 135540889564.20512\n",
    "tx_pop_dea_dos_merged[\"MME\"].sum()\n",
    "# 135540889564.20511"
   ]
  },
  {
   "cell_type": "code",
   "execution_count": 26,
   "metadata": {},
   "outputs": [],
   "source": [
    "tx_pop_dea_dos_merged.to_csv(\"../20_Intermediate_Files/Texas_Merged.csv\", index=False)"
   ]
  }
 ],
 "metadata": {
  "kernelspec": {
   "display_name": "base",
   "language": "python",
   "name": "python3"
  },
  "language_info": {
   "codemirror_mode": {
    "name": "ipython",
    "version": 3
   },
   "file_extension": ".py",
   "mimetype": "text/x-python",
   "name": "python",
   "nbconvert_exporter": "python",
   "pygments_lexer": "ipython3",
   "version": "3.11.5"
  }
 },
 "nbformat": 4,
 "nbformat_minor": 2
}
