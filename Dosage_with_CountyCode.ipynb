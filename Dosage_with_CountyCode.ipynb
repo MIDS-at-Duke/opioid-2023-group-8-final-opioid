{
 "cells": [
  {
   "cell_type": "code",
   "execution_count": 153,
   "metadata": {},
   "outputs": [],
   "source": [
    "import pandas as pd\n",
    "\n",
    "dos_data_path = \"https://github.com/MIDS-at-Duke/opioid-2023-group-8-final-opioid/raw/cleaning_dosage/20_Intermediate_Files/Dosage_FULL.parquet\"\n",
    "dos_data = pd.read_parquet(dos_data_path)"
   ]
  },
  {
   "cell_type": "code",
   "execution_count": 154,
   "metadata": {},
   "outputs": [
    {
     "data": {
      "text/html": [
       "<div>\n",
       "<style scoped>\n",
       "    .dataframe tbody tr th:only-of-type {\n",
       "        vertical-align: middle;\n",
       "    }\n",
       "\n",
       "    .dataframe tbody tr th {\n",
       "        vertical-align: top;\n",
       "    }\n",
       "\n",
       "    .dataframe thead th {\n",
       "        text-align: right;\n",
       "    }\n",
       "</style>\n",
       "<table border=\"1\" class=\"dataframe\">\n",
       "  <thead>\n",
       "    <tr style=\"text-align: right;\">\n",
       "      <th></th>\n",
       "      <th>BUYER_STATE</th>\n",
       "      <th>BUYER_COUNTY</th>\n",
       "      <th>MME</th>\n",
       "      <th>transaction_year</th>\n",
       "    </tr>\n",
       "  </thead>\n",
       "  <tbody>\n",
       "    <tr>\n",
       "      <th>67615455</th>\n",
       "      <td>OR</td>\n",
       "      <td>WASHINGTON</td>\n",
       "      <td>1.513461e+08</td>\n",
       "      <td>2015</td>\n",
       "    </tr>\n",
       "    <tr>\n",
       "      <th>67615456</th>\n",
       "      <td>OR</td>\n",
       "      <td>MULTNOMAH</td>\n",
       "      <td>2.785412e+08</td>\n",
       "      <td>2015</td>\n",
       "    </tr>\n",
       "    <tr>\n",
       "      <th>67615459</th>\n",
       "      <td>OR</td>\n",
       "      <td>MARION</td>\n",
       "      <td>1.179174e+08</td>\n",
       "      <td>2015</td>\n",
       "    </tr>\n",
       "    <tr>\n",
       "      <th>67615464</th>\n",
       "      <td>OR</td>\n",
       "      <td>LANE</td>\n",
       "      <td>1.979066e+08</td>\n",
       "      <td>2015</td>\n",
       "    </tr>\n",
       "    <tr>\n",
       "      <th>67615475</th>\n",
       "      <td>OR</td>\n",
       "      <td>TILLAMOOK</td>\n",
       "      <td>1.968917e+07</td>\n",
       "      <td>2015</td>\n",
       "    </tr>\n",
       "  </tbody>\n",
       "</table>\n",
       "</div>"
      ],
      "text/plain": [
       "         BUYER_STATE BUYER_COUNTY           MME  transaction_year\n",
       "67615455          OR   WASHINGTON  1.513461e+08              2015\n",
       "67615456          OR    MULTNOMAH  2.785412e+08              2015\n",
       "67615459          OR       MARION  1.179174e+08              2015\n",
       "67615464          OR         LANE  1.979066e+08              2015\n",
       "67615475          OR    TILLAMOOK  1.968917e+07              2015"
      ]
     },
     "execution_count": 154,
     "metadata": {},
     "output_type": "execute_result"
    }
   ],
   "source": [
    "dos_data.head()"
   ]
  },
  {
   "cell_type": "code",
   "execution_count": 155,
   "metadata": {},
   "outputs": [
    {
     "data": {
      "text/html": [
       "<div>\n",
       "<style scoped>\n",
       "    .dataframe tbody tr th:only-of-type {\n",
       "        vertical-align: middle;\n",
       "    }\n",
       "\n",
       "    .dataframe tbody tr th {\n",
       "        vertical-align: top;\n",
       "    }\n",
       "\n",
       "    .dataframe thead th {\n",
       "        text-align: right;\n",
       "    }\n",
       "</style>\n",
       "<table border=\"1\" class=\"dataframe\">\n",
       "  <thead>\n",
       "    <tr style=\"text-align: right;\">\n",
       "      <th></th>\n",
       "      <th>BUYER_STATE</th>\n",
       "      <th>BUYER_COUNTY</th>\n",
       "      <th>MME</th>\n",
       "      <th>transaction_year</th>\n",
       "    </tr>\n",
       "  </thead>\n",
       "  <tbody>\n",
       "    <tr>\n",
       "      <th>67615455</th>\n",
       "      <td>OR</td>\n",
       "      <td>washington</td>\n",
       "      <td>1.513461e+08</td>\n",
       "      <td>2015</td>\n",
       "    </tr>\n",
       "    <tr>\n",
       "      <th>67615456</th>\n",
       "      <td>OR</td>\n",
       "      <td>multnomah</td>\n",
       "      <td>2.785412e+08</td>\n",
       "      <td>2015</td>\n",
       "    </tr>\n",
       "    <tr>\n",
       "      <th>67615459</th>\n",
       "      <td>OR</td>\n",
       "      <td>marion</td>\n",
       "      <td>1.179174e+08</td>\n",
       "      <td>2015</td>\n",
       "    </tr>\n",
       "    <tr>\n",
       "      <th>67615464</th>\n",
       "      <td>OR</td>\n",
       "      <td>lane</td>\n",
       "      <td>1.979066e+08</td>\n",
       "      <td>2015</td>\n",
       "    </tr>\n",
       "    <tr>\n",
       "      <th>67615475</th>\n",
       "      <td>OR</td>\n",
       "      <td>tillamook</td>\n",
       "      <td>1.968917e+07</td>\n",
       "      <td>2015</td>\n",
       "    </tr>\n",
       "  </tbody>\n",
       "</table>\n",
       "</div>"
      ],
      "text/plain": [
       "         BUYER_STATE BUYER_COUNTY           MME  transaction_year\n",
       "67615455          OR   washington  1.513461e+08              2015\n",
       "67615456          OR    multnomah  2.785412e+08              2015\n",
       "67615459          OR       marion  1.179174e+08              2015\n",
       "67615464          OR         lane  1.979066e+08              2015\n",
       "67615475          OR    tillamook  1.968917e+07              2015"
      ]
     },
     "execution_count": 155,
     "metadata": {},
     "output_type": "execute_result"
    }
   ],
   "source": [
    "dos_data[\"BUYER_COUNTY\"] = dos_data[\"BUYER_COUNTY\"].str.replace(\" \", \"\").str.lower()\n",
    "\n",
    "# Add 'County' at the end of each value in the 'BUYER_COUNTY' column\n",
    "dos_data[\"BUYER_COUNTY\"] = dos_data[\"BUYER_COUNTY\"]\n",
    "dos_data.head()"
   ]
  },
  {
   "cell_type": "code",
   "execution_count": 156,
   "metadata": {},
   "outputs": [
    {
     "data": {
      "text/plain": [
       "13092"
      ]
     },
     "execution_count": 156,
     "metadata": {},
     "output_type": "execute_result"
    }
   ],
   "source": [
    "new_column_names = {\n",
    "    \"BUYER_STATE\": \"state\",\n",
    "    \"BUYER_COUNTY\": \"name\",\n",
    "    # Add more mappings as needed\n",
    "}\n",
    "\n",
    "# Rename columns using the dictionary\n",
    "dos_data1 = dos_data.rename(columns=new_column_names)\n",
    "\n",
    "len(dos_data1)"
   ]
  },
  {
   "cell_type": "code",
   "execution_count": 157,
   "metadata": {},
   "outputs": [],
   "source": [
    "data_code = pd.read_csv(\n",
    "    \"https://github.com/kjhealy/fips-codes/raw/master/state_and_county_fips_master.csv\"\n",
    ")"
   ]
  },
  {
   "cell_type": "code",
   "execution_count": null,
   "metadata": {},
   "outputs": [],
   "source": []
  },
  {
   "cell_type": "code",
   "execution_count": 158,
   "metadata": {},
   "outputs": [
    {
     "data": {
      "text/plain": [
       "state\n",
       "TX    254\n",
       "GA    159\n",
       "VA    134\n",
       "KY    120\n",
       "MO    115\n",
       "KS    105\n",
       "IL    102\n",
       "NC    100\n",
       "IA     99\n",
       "TN     95\n",
       "NE     93\n",
       "IN     92\n",
       "OH     88\n",
       "MN     87\n",
       "MI     83\n",
       "MS     82\n",
       "OK     77\n",
       "AR     75\n",
       "WI     72\n",
       "PA     67\n",
       "AL     67\n",
       "FL     67\n",
       "SD     66\n",
       "CO     64\n",
       "LA     64\n",
       "NY     62\n",
       "CA     58\n",
       "MT     56\n",
       "WV     55\n",
       "ND     53\n",
       "SC     46\n",
       "ID     44\n",
       "WA     39\n",
       "OR     36\n",
       "NM     33\n",
       "AK     29\n",
       "UT     29\n",
       "MD     24\n",
       "WY     23\n",
       "NJ     21\n",
       "NV     17\n",
       "ME     16\n",
       "AZ     15\n",
       "VT     14\n",
       "MA     14\n",
       "NH     10\n",
       "CT      8\n",
       "RI      5\n",
       "HI      5\n",
       "DE      3\n",
       "DC      1\n",
       "Name: count, dtype: int64"
      ]
     },
     "execution_count": 158,
     "metadata": {},
     "output_type": "execute_result"
    }
   ],
   "source": [
    "data_code1 = data_code[data_code[\"state\"].notnull()]\n",
    "\n",
    "\n",
    "data_code1.state.value_counts()"
   ]
  },
  {
   "cell_type": "code",
   "execution_count": 159,
   "metadata": {},
   "outputs": [
    {
     "name": "stderr",
     "output_type": "stream",
     "text": [
      "C:\\Users\\ayush\\AppData\\Local\\Temp\\ipykernel_92708\\4051651857.py:1: SettingWithCopyWarning: \n",
      "A value is trying to be set on a copy of a slice from a DataFrame.\n",
      "Try using .loc[row_indexer,col_indexer] = value instead\n",
      "\n",
      "See the caveats in the documentation: https://pandas.pydata.org/pandas-docs/stable/user_guide/indexing.html#returning-a-view-versus-a-copy\n",
      "  data_code1['name'] = data_code1['name'].str.replace('county', '', case=False)\n",
      "C:\\Users\\ayush\\AppData\\Local\\Temp\\ipykernel_92708\\4051651857.py:4: SettingWithCopyWarning: \n",
      "A value is trying to be set on a copy of a slice from a DataFrame.\n",
      "Try using .loc[row_indexer,col_indexer] = value instead\n",
      "\n",
      "See the caveats in the documentation: https://pandas.pydata.org/pandas-docs/stable/user_guide/indexing.html#returning-a-view-versus-a-copy\n",
      "  data_code1['name'] = data_code1['name'].str.replace(' ', '')\n",
      "C:\\Users\\ayush\\AppData\\Local\\Temp\\ipykernel_92708\\4051651857.py:7: SettingWithCopyWarning: \n",
      "A value is trying to be set on a copy of a slice from a DataFrame.\n",
      "Try using .loc[row_indexer,col_indexer] = value instead\n",
      "\n",
      "See the caveats in the documentation: https://pandas.pydata.org/pandas-docs/stable/user_guide/indexing.html#returning-a-view-versus-a-copy\n",
      "  data_code1['name'] = data_code1['name'].str.lower()\n"
     ]
    }
   ],
   "source": [
    "data_code1[\"name\"] = data_code1[\"name\"].str.replace(\"county\", \"\", case=False)\n",
    "\n",
    "# Remove spaces from the resulting strings\n",
    "data_code1[\"name\"] = data_code1[\"name\"].str.replace(\" \", \"\")\n",
    "\n",
    "# Convert the strings to lowercase\n",
    "data_code1[\"name\"] = data_code1[\"name\"].str.lower()"
   ]
  },
  {
   "cell_type": "code",
   "execution_count": 171,
   "metadata": {},
   "outputs": [
    {
     "name": "stderr",
     "output_type": "stream",
     "text": [
      "C:\\Users\\ayush\\AppData\\Local\\Temp\\ipykernel_92708\\4293900327.py:1: SettingWithCopyWarning: \n",
      "A value is trying to be set on a copy of a slice from a DataFrame.\n",
      "Try using .loc[row_indexer,col_indexer] = value instead\n",
      "\n",
      "See the caveats in the documentation: https://pandas.pydata.org/pandas-docs/stable/user_guide/indexing.html#returning-a-view-versus-a-copy\n",
      "  data_code1['name'] = data_code1['name'].str.replace('parish', '')\n"
     ]
    }
   ],
   "source": [
    "data_code1[\"name\"] = data_code1[\"name\"].str.replace(\"parish\", \"\")"
   ]
  },
  {
   "cell_type": "code",
   "execution_count": 191,
   "metadata": {},
   "outputs": [
    {
     "name": "stderr",
     "output_type": "stream",
     "text": [
      "C:\\Users\\ayush\\AppData\\Local\\Temp\\ipykernel_92708\\3163456889.py:1: SettingWithCopyWarning: \n",
      "A value is trying to be set on a copy of a slice from a DataFrame.\n",
      "Try using .loc[row_indexer,col_indexer] = value instead\n",
      "\n",
      "See the caveats in the documentation: https://pandas.pydata.org/pandas-docs/stable/user_guide/indexing.html#returning-a-view-versus-a-copy\n",
      "  data_code1['name'] = data_code1['name'].str.replace(r'st.', 'saint')\n"
     ]
    }
   ],
   "source": [
    "data_code1[\"name\"] = data_code1[\"name\"].str.replace(r\"st.\", \"saint\")"
   ]
  },
  {
   "cell_type": "code",
   "execution_count": 198,
   "metadata": {},
   "outputs": [
    {
     "name": "stderr",
     "output_type": "stream",
     "text": [
      "C:\\Users\\ayush\\AppData\\Local\\Temp\\ipykernel_92708\\4071341052.py:1: SettingWithCopyWarning: \n",
      "A value is trying to be set on a copy of a slice from a DataFrame.\n",
      "Try using .loc[row_indexer,col_indexer] = value instead\n",
      "\n",
      "See the caveats in the documentation: https://pandas.pydata.org/pandas-docs/stable/user_guide/indexing.html#returning-a-view-versus-a-copy\n",
      "  data_code1['name'] = data_code1['name'].str.replace('saintjohnthebaptist', 'stjohnthebaptist')\n"
     ]
    }
   ],
   "source": [
    "data_code1[\"name\"] = data_code1[\"name\"].str.replace(\n",
    "    \"saintjohnthebaptist\", \"stjohnthebaptist\"\n",
    ")"
   ]
  },
  {
   "cell_type": "code",
   "execution_count": 197,
   "metadata": {},
   "outputs": [
    {
     "data": {
      "text/html": [
       "<div>\n",
       "<style scoped>\n",
       "    .dataframe tbody tr th:only-of-type {\n",
       "        vertical-align: middle;\n",
       "    }\n",
       "\n",
       "    .dataframe tbody tr th {\n",
       "        vertical-align: top;\n",
       "    }\n",
       "\n",
       "    .dataframe thead th {\n",
       "        text-align: right;\n",
       "    }\n",
       "</style>\n",
       "<table border=\"1\" class=\"dataframe\">\n",
       "  <thead>\n",
       "    <tr style=\"text-align: right;\">\n",
       "      <th></th>\n",
       "      <th>fips</th>\n",
       "      <th>name</th>\n",
       "      <th>state</th>\n",
       "    </tr>\n",
       "  </thead>\n",
       "  <tbody>\n",
       "    <tr>\n",
       "      <th>151</th>\n",
       "      <td>5071</td>\n",
       "      <td>johnson</td>\n",
       "      <td>AR</td>\n",
       "    </tr>\n",
       "    <tr>\n",
       "      <th>385</th>\n",
       "      <td>12109</td>\n",
       "      <td>saintjohns</td>\n",
       "      <td>FL</td>\n",
       "    </tr>\n",
       "    <tr>\n",
       "      <th>481</th>\n",
       "      <td>13167</td>\n",
       "      <td>johnson</td>\n",
       "      <td>GA</td>\n",
       "    </tr>\n",
       "    <tr>\n",
       "      <th>653</th>\n",
       "      <td>17087</td>\n",
       "      <td>johnson</td>\n",
       "      <td>IL</td>\n",
       "    </tr>\n",
       "    <tr>\n",
       "      <th>753</th>\n",
       "      <td>18081</td>\n",
       "      <td>johnson</td>\n",
       "      <td>IN</td>\n",
       "    </tr>\n",
       "    <tr>\n",
       "      <th>857</th>\n",
       "      <td>19103</td>\n",
       "      <td>johnson</td>\n",
       "      <td>IA</td>\n",
       "    </tr>\n",
       "    <tr>\n",
       "      <th>951</th>\n",
       "      <td>20091</td>\n",
       "      <td>johnson</td>\n",
       "      <td>KS</td>\n",
       "    </tr>\n",
       "    <tr>\n",
       "      <th>1069</th>\n",
       "      <td>21115</td>\n",
       "      <td>johnson</td>\n",
       "      <td>KY</td>\n",
       "    </tr>\n",
       "    <tr>\n",
       "      <th>1180</th>\n",
       "      <td>22095</td>\n",
       "      <td>saintjohnthebaptist</td>\n",
       "      <td>LA</td>\n",
       "    </tr>\n",
       "    <tr>\n",
       "      <th>1560</th>\n",
       "      <td>29101</td>\n",
       "      <td>johnson</td>\n",
       "      <td>MO</td>\n",
       "    </tr>\n",
       "    <tr>\n",
       "      <th>1731</th>\n",
       "      <td>31097</td>\n",
       "      <td>johnson</td>\n",
       "      <td>NE</td>\n",
       "    </tr>\n",
       "    <tr>\n",
       "      <th>1975</th>\n",
       "      <td>37101</td>\n",
       "      <td>johnston</td>\n",
       "      <td>NC</td>\n",
       "    </tr>\n",
       "    <tr>\n",
       "      <th>2203</th>\n",
       "      <td>40069</td>\n",
       "      <td>johnston</td>\n",
       "      <td>OK</td>\n",
       "    </tr>\n",
       "    <tr>\n",
       "      <th>2517</th>\n",
       "      <td>47091</td>\n",
       "      <td>johnson</td>\n",
       "      <td>TN</td>\n",
       "    </tr>\n",
       "    <tr>\n",
       "      <th>2693</th>\n",
       "      <td>48251</td>\n",
       "      <td>johnson</td>\n",
       "      <td>TX</td>\n",
       "    </tr>\n",
       "    <tr>\n",
       "      <th>3181</th>\n",
       "      <td>56019</td>\n",
       "      <td>johnson</td>\n",
       "      <td>WY</td>\n",
       "    </tr>\n",
       "  </tbody>\n",
       "</table>\n",
       "</div>"
      ],
      "text/plain": [
       "       fips                 name state\n",
       "151    5071              johnson    AR\n",
       "385   12109           saintjohns    FL\n",
       "481   13167              johnson    GA\n",
       "653   17087              johnson    IL\n",
       "753   18081              johnson    IN\n",
       "857   19103              johnson    IA\n",
       "951   20091              johnson    KS\n",
       "1069  21115              johnson    KY\n",
       "1180  22095  saintjohnthebaptist    LA\n",
       "1560  29101              johnson    MO\n",
       "1731  31097              johnson    NE\n",
       "1975  37101             johnston    NC\n",
       "2203  40069             johnston    OK\n",
       "2517  47091              johnson    TN\n",
       "2693  48251              johnson    TX\n",
       "3181  56019              johnson    WY"
      ]
     },
     "execution_count": 197,
     "metadata": {},
     "output_type": "execute_result"
    }
   ],
   "source": [
    "data_code1[data_code1[\"name\"].str.contains(\"john\")]"
   ]
  },
  {
   "cell_type": "code",
   "execution_count": 124,
   "metadata": {},
   "outputs": [],
   "source": [
    "data_code2 = data_code1.copy()\n",
    "data_code2[\"name1\"] = data_code2[\"name\"]\n",
    "data_code2[\"state1\"] = data_code2[\"state\"]"
   ]
  },
  {
   "cell_type": "code",
   "execution_count": 199,
   "metadata": {},
   "outputs": [],
   "source": [
    "merged_df = pd.merge(dos_data1, data_code1, on=[\"name\", \"state\"], how=\"left\")"
   ]
  },
  {
   "cell_type": "code",
   "execution_count": 200,
   "metadata": {},
   "outputs": [
    {
     "data": {
      "text/html": [
       "<div>\n",
       "<style scoped>\n",
       "    .dataframe tbody tr th:only-of-type {\n",
       "        vertical-align: middle;\n",
       "    }\n",
       "\n",
       "    .dataframe tbody tr th {\n",
       "        vertical-align: top;\n",
       "    }\n",
       "\n",
       "    .dataframe thead th {\n",
       "        text-align: right;\n",
       "    }\n",
       "</style>\n",
       "<table border=\"1\" class=\"dataframe\">\n",
       "  <thead>\n",
       "    <tr style=\"text-align: right;\">\n",
       "      <th></th>\n",
       "      <th>state</th>\n",
       "      <th>name</th>\n",
       "      <th>MME</th>\n",
       "      <th>transaction_year</th>\n",
       "      <th>fips</th>\n",
       "    </tr>\n",
       "  </thead>\n",
       "  <tbody>\n",
       "    <tr>\n",
       "      <th>0</th>\n",
       "      <td>OR</td>\n",
       "      <td>washington</td>\n",
       "      <td>1.513461e+08</td>\n",
       "      <td>2015</td>\n",
       "      <td>41067</td>\n",
       "    </tr>\n",
       "    <tr>\n",
       "      <th>1</th>\n",
       "      <td>OR</td>\n",
       "      <td>multnomah</td>\n",
       "      <td>2.785412e+08</td>\n",
       "      <td>2015</td>\n",
       "      <td>41051</td>\n",
       "    </tr>\n",
       "    <tr>\n",
       "      <th>2</th>\n",
       "      <td>OR</td>\n",
       "      <td>marion</td>\n",
       "      <td>1.179174e+08</td>\n",
       "      <td>2015</td>\n",
       "      <td>41047</td>\n",
       "    </tr>\n",
       "    <tr>\n",
       "      <th>3</th>\n",
       "      <td>OR</td>\n",
       "      <td>lane</td>\n",
       "      <td>1.979066e+08</td>\n",
       "      <td>2015</td>\n",
       "      <td>41039</td>\n",
       "    </tr>\n",
       "    <tr>\n",
       "      <th>4</th>\n",
       "      <td>OR</td>\n",
       "      <td>tillamook</td>\n",
       "      <td>1.968917e+07</td>\n",
       "      <td>2015</td>\n",
       "      <td>41057</td>\n",
       "    </tr>\n",
       "    <tr>\n",
       "      <th>...</th>\n",
       "      <td>...</td>\n",
       "      <td>...</td>\n",
       "      <td>...</td>\n",
       "      <td>...</td>\n",
       "      <td>...</td>\n",
       "    </tr>\n",
       "    <tr>\n",
       "      <th>13087</th>\n",
       "      <td>FL</td>\n",
       "      <td>glades</td>\n",
       "      <td>9.245166e+05</td>\n",
       "      <td>2014</td>\n",
       "      <td>12043</td>\n",
       "    </tr>\n",
       "    <tr>\n",
       "      <th>13088</th>\n",
       "      <td>FL</td>\n",
       "      <td>liberty</td>\n",
       "      <td>9.186526e+05</td>\n",
       "      <td>2010</td>\n",
       "      <td>12077</td>\n",
       "    </tr>\n",
       "    <tr>\n",
       "      <th>13089</th>\n",
       "      <td>FL</td>\n",
       "      <td>liberty</td>\n",
       "      <td>8.218818e+05</td>\n",
       "      <td>2011</td>\n",
       "      <td>12077</td>\n",
       "    </tr>\n",
       "    <tr>\n",
       "      <th>13090</th>\n",
       "      <td>FL</td>\n",
       "      <td>liberty</td>\n",
       "      <td>7.645792e+05</td>\n",
       "      <td>2012</td>\n",
       "      <td>12077</td>\n",
       "    </tr>\n",
       "    <tr>\n",
       "      <th>13091</th>\n",
       "      <td>FL</td>\n",
       "      <td>liberty</td>\n",
       "      <td>6.762371e+05</td>\n",
       "      <td>2014</td>\n",
       "      <td>12077</td>\n",
       "    </tr>\n",
       "  </tbody>\n",
       "</table>\n",
       "<p>13092 rows × 5 columns</p>\n",
       "</div>"
      ],
      "text/plain": [
       "      state        name           MME  transaction_year   fips\n",
       "0        OR  washington  1.513461e+08              2015  41067\n",
       "1        OR   multnomah  2.785412e+08              2015  41051\n",
       "2        OR      marion  1.179174e+08              2015  41047\n",
       "3        OR        lane  1.979066e+08              2015  41039\n",
       "4        OR   tillamook  1.968917e+07              2015  41057\n",
       "...     ...         ...           ...               ...    ...\n",
       "13087    FL      glades  9.245166e+05              2014  12043\n",
       "13088    FL     liberty  9.186526e+05              2010  12077\n",
       "13089    FL     liberty  8.218818e+05              2011  12077\n",
       "13090    FL     liberty  7.645792e+05              2012  12077\n",
       "13091    FL     liberty  6.762371e+05              2014  12077\n",
       "\n",
       "[13092 rows x 5 columns]"
      ]
     },
     "execution_count": 200,
     "metadata": {},
     "output_type": "execute_result"
    }
   ],
   "source": [
    "merged_df"
   ]
  },
  {
   "cell_type": "code",
   "execution_count": 201,
   "metadata": {},
   "outputs": [
    {
     "data": {
      "text/plain": [
       "Series([], Name: count, dtype: int64)"
      ]
     },
     "execution_count": 201,
     "metadata": {},
     "output_type": "execute_result"
    }
   ],
   "source": [
    "missing_fips_rows = merged_df[merged_df[\"fips\"].isnull()]\n",
    "missing_fips_rows.name.value_counts()"
   ]
  },
  {
   "cell_type": "code",
   "execution_count": 203,
   "metadata": {},
   "outputs": [],
   "source": [
    "file_path = \"C:\\\\Users\\\\ayush\\\\OneDrive\\\\Desktop\\\\Project_PDS\\\\Final Project\\\\Dosage_with_CountyCode.csv\"  # Replace with your desired file path\n",
    "\n",
    "# Save the DataFrame to a CSV file\n",
    "merged_df.to_csv(file_path, index=False)"
   ]
  },
  {
   "cell_type": "code",
   "execution_count": null,
   "metadata": {},
   "outputs": [],
   "source": []
  }
 ],
 "metadata": {
  "kernelspec": {
   "display_name": "base",
   "language": "python",
   "name": "python3"
  },
  "language_info": {
   "codemirror_mode": {
    "name": "ipython",
    "version": 3
   },
   "file_extension": ".py",
   "mimetype": "text/x-python",
   "name": "python",
   "nbconvert_exporter": "python",
   "pygments_lexer": "ipython3",
   "version": "3.11.5"
  }
 },
 "nbformat": 4,
 "nbformat_minor": 2
}
